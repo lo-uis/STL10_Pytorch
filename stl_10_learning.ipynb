{
  "nbformat": 4,
  "nbformat_minor": 0,
  "metadata": {
    "colab": {
      "name": "stl_10.ipynb",
      "provenance": [],
      "collapsed_sections": [],
      "toc_visible": true
    },
    "kernelspec": {
      "name": "python3",
      "display_name": "Python 3"
    },
    "accelerator": "GPU",
    "widgets": {
      "application/vnd.jupyter.widget-state+json": {
        "efcef8aff20a4cc9b7c2e380ad3c07fb": {
          "model_module": "@jupyter-widgets/controls",
          "model_name": "HBoxModel",
          "state": {
            "_view_name": "HBoxView",
            "_dom_classes": [],
            "_model_name": "HBoxModel",
            "_view_module": "@jupyter-widgets/controls",
            "_model_module_version": "1.5.0",
            "_view_count": null,
            "_view_module_version": "1.5.0",
            "box_style": "",
            "layout": "IPY_MODEL_55f93a78661e4d6bac72274ecf748e70",
            "_model_module": "@jupyter-widgets/controls",
            "children": [
              "IPY_MODEL_82d98c5e212347b7bf9c87b8f820dc82",
              "IPY_MODEL_1b6f2e7cc15c4448bc6a5e3bd878221e"
            ]
          }
        },
        "55f93a78661e4d6bac72274ecf748e70": {
          "model_module": "@jupyter-widgets/base",
          "model_name": "LayoutModel",
          "state": {
            "_view_name": "LayoutView",
            "grid_template_rows": null,
            "right": null,
            "justify_content": null,
            "_view_module": "@jupyter-widgets/base",
            "overflow": null,
            "_model_module_version": "1.2.0",
            "_view_count": null,
            "flex_flow": null,
            "width": null,
            "min_width": null,
            "border": null,
            "align_items": null,
            "bottom": null,
            "_model_module": "@jupyter-widgets/base",
            "top": null,
            "grid_column": null,
            "overflow_y": null,
            "overflow_x": null,
            "grid_auto_flow": null,
            "grid_area": null,
            "grid_template_columns": null,
            "flex": null,
            "_model_name": "LayoutModel",
            "justify_items": null,
            "grid_row": null,
            "max_height": null,
            "align_content": null,
            "visibility": null,
            "align_self": null,
            "height": null,
            "min_height": null,
            "padding": null,
            "grid_auto_rows": null,
            "grid_gap": null,
            "max_width": null,
            "order": null,
            "_view_module_version": "1.2.0",
            "grid_template_areas": null,
            "object_position": null,
            "object_fit": null,
            "grid_auto_columns": null,
            "margin": null,
            "display": null,
            "left": null
          }
        },
        "82d98c5e212347b7bf9c87b8f820dc82": {
          "model_module": "@jupyter-widgets/controls",
          "model_name": "IntProgressModel",
          "state": {
            "_view_name": "ProgressView",
            "style": "IPY_MODEL_55f608f60bb647f0b497696d71f0563d",
            "_dom_classes": [],
            "description": "",
            "_model_name": "IntProgressModel",
            "bar_style": "info",
            "max": 1,
            "_view_module": "@jupyter-widgets/controls",
            "_model_module_version": "1.5.0",
            "value": 1,
            "_view_count": null,
            "_view_module_version": "1.5.0",
            "orientation": "horizontal",
            "min": 0,
            "description_tooltip": null,
            "_model_module": "@jupyter-widgets/controls",
            "layout": "IPY_MODEL_0b62208a15364a309f81b591ef648696"
          }
        },
        "1b6f2e7cc15c4448bc6a5e3bd878221e": {
          "model_module": "@jupyter-widgets/controls",
          "model_name": "HTMLModel",
          "state": {
            "_view_name": "HTMLView",
            "style": "IPY_MODEL_60715c4efad04dba9b0b67a4a231b5d7",
            "_dom_classes": [],
            "description": "",
            "_model_name": "HTMLModel",
            "placeholder": "​",
            "_view_module": "@jupyter-widgets/controls",
            "_model_module_version": "1.5.0",
            "value": " 2640404480/? [03:00&lt;00:00, 19817486.59it/s]",
            "_view_count": null,
            "_view_module_version": "1.5.0",
            "description_tooltip": null,
            "_model_module": "@jupyter-widgets/controls",
            "layout": "IPY_MODEL_b8202ec6e47946928b77d0170dcae521"
          }
        },
        "55f608f60bb647f0b497696d71f0563d": {
          "model_module": "@jupyter-widgets/controls",
          "model_name": "ProgressStyleModel",
          "state": {
            "_view_name": "StyleView",
            "_model_name": "ProgressStyleModel",
            "description_width": "initial",
            "_view_module": "@jupyter-widgets/base",
            "_model_module_version": "1.5.0",
            "_view_count": null,
            "_view_module_version": "1.2.0",
            "bar_color": null,
            "_model_module": "@jupyter-widgets/controls"
          }
        },
        "0b62208a15364a309f81b591ef648696": {
          "model_module": "@jupyter-widgets/base",
          "model_name": "LayoutModel",
          "state": {
            "_view_name": "LayoutView",
            "grid_template_rows": null,
            "right": null,
            "justify_content": null,
            "_view_module": "@jupyter-widgets/base",
            "overflow": null,
            "_model_module_version": "1.2.0",
            "_view_count": null,
            "flex_flow": null,
            "width": null,
            "min_width": null,
            "border": null,
            "align_items": null,
            "bottom": null,
            "_model_module": "@jupyter-widgets/base",
            "top": null,
            "grid_column": null,
            "overflow_y": null,
            "overflow_x": null,
            "grid_auto_flow": null,
            "grid_area": null,
            "grid_template_columns": null,
            "flex": null,
            "_model_name": "LayoutModel",
            "justify_items": null,
            "grid_row": null,
            "max_height": null,
            "align_content": null,
            "visibility": null,
            "align_self": null,
            "height": null,
            "min_height": null,
            "padding": null,
            "grid_auto_rows": null,
            "grid_gap": null,
            "max_width": null,
            "order": null,
            "_view_module_version": "1.2.0",
            "grid_template_areas": null,
            "object_position": null,
            "object_fit": null,
            "grid_auto_columns": null,
            "margin": null,
            "display": null,
            "left": null
          }
        },
        "60715c4efad04dba9b0b67a4a231b5d7": {
          "model_module": "@jupyter-widgets/controls",
          "model_name": "DescriptionStyleModel",
          "state": {
            "_view_name": "StyleView",
            "_model_name": "DescriptionStyleModel",
            "description_width": "",
            "_view_module": "@jupyter-widgets/base",
            "_model_module_version": "1.5.0",
            "_view_count": null,
            "_view_module_version": "1.2.0",
            "_model_module": "@jupyter-widgets/controls"
          }
        },
        "b8202ec6e47946928b77d0170dcae521": {
          "model_module": "@jupyter-widgets/base",
          "model_name": "LayoutModel",
          "state": {
            "_view_name": "LayoutView",
            "grid_template_rows": null,
            "right": null,
            "justify_content": null,
            "_view_module": "@jupyter-widgets/base",
            "overflow": null,
            "_model_module_version": "1.2.0",
            "_view_count": null,
            "flex_flow": null,
            "width": null,
            "min_width": null,
            "border": null,
            "align_items": null,
            "bottom": null,
            "_model_module": "@jupyter-widgets/base",
            "top": null,
            "grid_column": null,
            "overflow_y": null,
            "overflow_x": null,
            "grid_auto_flow": null,
            "grid_area": null,
            "grid_template_columns": null,
            "flex": null,
            "_model_name": "LayoutModel",
            "justify_items": null,
            "grid_row": null,
            "max_height": null,
            "align_content": null,
            "visibility": null,
            "align_self": null,
            "height": null,
            "min_height": null,
            "padding": null,
            "grid_auto_rows": null,
            "grid_gap": null,
            "max_width": null,
            "order": null,
            "_view_module_version": "1.2.0",
            "grid_template_areas": null,
            "object_position": null,
            "object_fit": null,
            "grid_auto_columns": null,
            "margin": null,
            "display": null,
            "left": null
          }
        },
        "b2e4af8542444f34ab901f8bfe5febef": {
          "model_module": "@jupyter-widgets/controls",
          "model_name": "HBoxModel",
          "state": {
            "_view_name": "HBoxView",
            "_dom_classes": [],
            "_model_name": "HBoxModel",
            "_view_module": "@jupyter-widgets/controls",
            "_model_module_version": "1.5.0",
            "_view_count": null,
            "_view_module_version": "1.5.0",
            "box_style": "",
            "layout": "IPY_MODEL_0383817f7fc84702a899b89e034d6323",
            "_model_module": "@jupyter-widgets/controls",
            "children": [
              "IPY_MODEL_d0c0152a9202446b91f5a4619390ded6",
              "IPY_MODEL_ce7655ebfae64d8ab56954c4ba2d8acb"
            ]
          }
        },
        "0383817f7fc84702a899b89e034d6323": {
          "model_module": "@jupyter-widgets/base",
          "model_name": "LayoutModel",
          "state": {
            "_view_name": "LayoutView",
            "grid_template_rows": null,
            "right": null,
            "justify_content": null,
            "_view_module": "@jupyter-widgets/base",
            "overflow": null,
            "_model_module_version": "1.2.0",
            "_view_count": null,
            "flex_flow": null,
            "width": null,
            "min_width": null,
            "border": null,
            "align_items": null,
            "bottom": null,
            "_model_module": "@jupyter-widgets/base",
            "top": null,
            "grid_column": null,
            "overflow_y": null,
            "overflow_x": null,
            "grid_auto_flow": null,
            "grid_area": null,
            "grid_template_columns": null,
            "flex": null,
            "_model_name": "LayoutModel",
            "justify_items": null,
            "grid_row": null,
            "max_height": null,
            "align_content": null,
            "visibility": null,
            "align_self": null,
            "height": null,
            "min_height": null,
            "padding": null,
            "grid_auto_rows": null,
            "grid_gap": null,
            "max_width": null,
            "order": null,
            "_view_module_version": "1.2.0",
            "grid_template_areas": null,
            "object_position": null,
            "object_fit": null,
            "grid_auto_columns": null,
            "margin": null,
            "display": null,
            "left": null
          }
        },
        "d0c0152a9202446b91f5a4619390ded6": {
          "model_module": "@jupyter-widgets/controls",
          "model_name": "IntProgressModel",
          "state": {
            "_view_name": "ProgressView",
            "style": "IPY_MODEL_e7bd3c4cd0364ba3aa90db5cbff880d6",
            "_dom_classes": [],
            "description": "100%",
            "_model_name": "IntProgressModel",
            "bar_style": "success",
            "max": 115730790,
            "_view_module": "@jupyter-widgets/controls",
            "_model_module_version": "1.5.0",
            "value": 115730790,
            "_view_count": null,
            "_view_module_version": "1.5.0",
            "orientation": "horizontal",
            "min": 0,
            "description_tooltip": null,
            "_model_module": "@jupyter-widgets/controls",
            "layout": "IPY_MODEL_9bcb23e2c75a4cad95b1ab617a3aaba2"
          }
        },
        "ce7655ebfae64d8ab56954c4ba2d8acb": {
          "model_module": "@jupyter-widgets/controls",
          "model_name": "HTMLModel",
          "state": {
            "_view_name": "HTMLView",
            "style": "IPY_MODEL_f8a75e6a81d94096be2affd889a37eda",
            "_dom_classes": [],
            "description": "",
            "_model_name": "HTMLModel",
            "placeholder": "​",
            "_view_module": "@jupyter-widgets/controls",
            "_model_module_version": "1.5.0",
            "value": " 110M/110M [00:01&lt;00:00, 83.5MB/s]",
            "_view_count": null,
            "_view_module_version": "1.5.0",
            "description_tooltip": null,
            "_model_module": "@jupyter-widgets/controls",
            "layout": "IPY_MODEL_b5d17f1943844efc933a83151189d2d5"
          }
        },
        "e7bd3c4cd0364ba3aa90db5cbff880d6": {
          "model_module": "@jupyter-widgets/controls",
          "model_name": "ProgressStyleModel",
          "state": {
            "_view_name": "StyleView",
            "_model_name": "ProgressStyleModel",
            "description_width": "initial",
            "_view_module": "@jupyter-widgets/base",
            "_model_module_version": "1.5.0",
            "_view_count": null,
            "_view_module_version": "1.2.0",
            "bar_color": null,
            "_model_module": "@jupyter-widgets/controls"
          }
        },
        "9bcb23e2c75a4cad95b1ab617a3aaba2": {
          "model_module": "@jupyter-widgets/base",
          "model_name": "LayoutModel",
          "state": {
            "_view_name": "LayoutView",
            "grid_template_rows": null,
            "right": null,
            "justify_content": null,
            "_view_module": "@jupyter-widgets/base",
            "overflow": null,
            "_model_module_version": "1.2.0",
            "_view_count": null,
            "flex_flow": null,
            "width": null,
            "min_width": null,
            "border": null,
            "align_items": null,
            "bottom": null,
            "_model_module": "@jupyter-widgets/base",
            "top": null,
            "grid_column": null,
            "overflow_y": null,
            "overflow_x": null,
            "grid_auto_flow": null,
            "grid_area": null,
            "grid_template_columns": null,
            "flex": null,
            "_model_name": "LayoutModel",
            "justify_items": null,
            "grid_row": null,
            "max_height": null,
            "align_content": null,
            "visibility": null,
            "align_self": null,
            "height": null,
            "min_height": null,
            "padding": null,
            "grid_auto_rows": null,
            "grid_gap": null,
            "max_width": null,
            "order": null,
            "_view_module_version": "1.2.0",
            "grid_template_areas": null,
            "object_position": null,
            "object_fit": null,
            "grid_auto_columns": null,
            "margin": null,
            "display": null,
            "left": null
          }
        },
        "f8a75e6a81d94096be2affd889a37eda": {
          "model_module": "@jupyter-widgets/controls",
          "model_name": "DescriptionStyleModel",
          "state": {
            "_view_name": "StyleView",
            "_model_name": "DescriptionStyleModel",
            "description_width": "",
            "_view_module": "@jupyter-widgets/base",
            "_model_module_version": "1.5.0",
            "_view_count": null,
            "_view_module_version": "1.2.0",
            "_model_module": "@jupyter-widgets/controls"
          }
        },
        "b5d17f1943844efc933a83151189d2d5": {
          "model_module": "@jupyter-widgets/base",
          "model_name": "LayoutModel",
          "state": {
            "_view_name": "LayoutView",
            "grid_template_rows": null,
            "right": null,
            "justify_content": null,
            "_view_module": "@jupyter-widgets/base",
            "overflow": null,
            "_model_module_version": "1.2.0",
            "_view_count": null,
            "flex_flow": null,
            "width": null,
            "min_width": null,
            "border": null,
            "align_items": null,
            "bottom": null,
            "_model_module": "@jupyter-widgets/base",
            "top": null,
            "grid_column": null,
            "overflow_y": null,
            "overflow_x": null,
            "grid_auto_flow": null,
            "grid_area": null,
            "grid_template_columns": null,
            "flex": null,
            "_model_name": "LayoutModel",
            "justify_items": null,
            "grid_row": null,
            "max_height": null,
            "align_content": null,
            "visibility": null,
            "align_self": null,
            "height": null,
            "min_height": null,
            "padding": null,
            "grid_auto_rows": null,
            "grid_gap": null,
            "max_width": null,
            "order": null,
            "_view_module_version": "1.2.0",
            "grid_template_areas": null,
            "object_position": null,
            "object_fit": null,
            "grid_auto_columns": null,
            "margin": null,
            "display": null,
            "left": null
          }
        }
      }
    }
  },
  "cells": [
    {
      "cell_type": "markdown",
      "metadata": {
        "id": "view-in-github",
        "colab_type": "text"
      },
      "source": [
        "<a href=\"https://colab.research.google.com/github/lo-uis/Team_ChoLab/blob/develop/stl_10.ipynb\" target=\"_parent\"><img src=\"https://colab.research.google.com/assets/colab-badge.svg\" alt=\"Open In Colab\"/></a>"
      ]
    },
    {
      "cell_type": "code",
      "metadata": {
        "id": "nQDSbK1bQrvl",
        "colab_type": "code",
        "outputId": "4b13971c-adaa-400b-f05e-97d9c4b6ad58",
        "colab": {
          "base_uri": "https://localhost:8080/",
          "height": 122
        }
      },
      "source": [
        "import google.colab.drive\n",
        "google.colab.drive.mount(\"gdrive\")\n",
        "\n"
      ],
      "execution_count": 1,
      "outputs": [
        {
          "output_type": "stream",
          "text": [
            "Go to this URL in a browser: https://accounts.google.com/o/oauth2/auth?client_id=947318989803-6bn6qk8qdgf4n4g3pfee6491hc0brc4i.apps.googleusercontent.com&redirect_uri=urn%3aietf%3awg%3aoauth%3a2.0%3aoob&response_type=code&scope=email%20https%3a%2f%2fwww.googleapis.com%2fauth%2fdocs.test%20https%3a%2f%2fwww.googleapis.com%2fauth%2fdrive%20https%3a%2f%2fwww.googleapis.com%2fauth%2fdrive.photos.readonly%20https%3a%2f%2fwww.googleapis.com%2fauth%2fpeopleapi.readonly\n",
            "\n",
            "Enter your authorization code:\n",
            "··········\n",
            "Mounted at gdrive\n"
          ],
          "name": "stdout"
        }
      ]
    },
    {
      "cell_type": "code",
      "metadata": {
        "id": "4_nBMXzoUGmn",
        "colab_type": "code",
        "colab": {}
      },
      "source": [
        "#!pip install pytorch-lightning"
      ],
      "execution_count": 0,
      "outputs": []
    },
    {
      "cell_type": "code",
      "metadata": {
        "id": "afROXj-cRAgr",
        "colab_type": "code",
        "colab": {}
      },
      "source": [
        "import torch\n",
        "import torchvision\n",
        "import torch.optim as optim\n",
        "import torch.nn as nn\n",
        "import torch.nn.functional as F\n",
        "import torch.utils.data as data\n",
        "from PIL import Image\n",
        "from torchvision import models, transforms\n",
        "from tqdm import tqdm\n",
        "import matplotlib.pyplot as plt\n",
        "import numpy as np\n",
        "%matplotlib inline"
      ],
      "execution_count": 0,
      "outputs": []
    },
    {
      "cell_type": "markdown",
      "metadata": {
        "id": "ujPs9LqRDDYo",
        "colab_type": "text"
      },
      "source": [
        "# **前処理**"
      ]
    },
    {
      "cell_type": "code",
      "metadata": {
        "id": "q5oNxTVsWVPN",
        "colab_type": "code",
        "colab": {}
      },
      "source": [
        "class GridMask():\n",
        "    def __init__(self, p=0.6, d_range=(96, 224), r=0.6):\n",
        "        self.p = p\n",
        "        self.d_range = d_range\n",
        "        self.r = r\n",
        "        \n",
        "    def __call__(self, sample):\n",
        "        \"\"\"\n",
        "        sample: torch.Tensor(3, height, width)\n",
        "        \"\"\"\n",
        "        if np.random.uniform() > self.p:\n",
        "            return sample\n",
        "        sample = sample.numpy()\n",
        "        side = sample.shape[1]\n",
        "        d = np.random.randint(*self.d_range, dtype=np.uint8)\n",
        "        r = int(self.r * d)\n",
        "        \n",
        "        mask = np.ones((side+d, side+d), dtype=np.uint8)\n",
        "        for i in range(0, side+d, d):\n",
        "            for j in range(0, side+d, d):\n",
        "                mask[i: i+(d-r), j: j+(d-r)] = 0\n",
        "        delta_x, delta_y = np.random.randint(0, d, size=2)\n",
        "        mask = mask[delta_x: delta_x+side, delta_y: delta_y+side]\n",
        "        sample *= np.expand_dims(mask, 0)\n",
        "        return torch.from_numpy(sample)"
      ],
      "execution_count": 0,
      "outputs": []
    },
    {
      "cell_type": "code",
      "metadata": {
        "id": "R6Mi9CU4UvzG",
        "colab_type": "code",
        "colab": {}
      },
      "source": [
        "# tranform tensor\n",
        "#前処理できる\n",
        "#trainデータセットの前処理\n",
        "\n",
        "\n",
        "transform_train = GridMask()\n",
        "transform_train=transforms.Compose([\n",
        "    transforms.RandomResizedCrop(224), #サイズ合わせ\n",
        "    transforms.RandomHorizontalFlip(), \n",
        "    \n",
        "    #transforms.RandomVerticalFlip(),\n",
        "    transforms.ToTensor() ,              #型変換(?)\n",
        "    transforms.Normalize((0.485, 0.456, 0.406), (0.229, 0.224, 0.225))  #https://teratail.com/questions/234027\n",
        "    \n",
        "    ])"
      ],
      "execution_count": 0,
      "outputs": []
    },
    {
      "cell_type": "code",
      "metadata": {
        "id": "Ygqf2qJ2tjkc",
        "colab_type": "code",
        "colab": {}
      },
      "source": [
        "#validationデータセットの前処理\n",
        "transform_val = transforms.Compose([\n",
        "    transforms.RandomResizedCrop(224), #サイズ合わせ\n",
        "    transforms.ToTensor() ,              #型変換(?)\n",
        "    transforms.Normalize((0.485, 0.456, 0.406), (0.229, 0.224, 0.225) ) #多分正規化\n",
        "    ])"
      ],
      "execution_count": 0,
      "outputs": []
    },
    {
      "cell_type": "code",
      "metadata": {
        "id": "VQPeRzXgVJjv",
        "colab_type": "code",
        "outputId": "5fdd4826-8ad3-4850-8924-3f09b9fd880c",
        "colab": {
          "base_uri": "https://localhost:8080/",
          "height": 83,
          "referenced_widgets": [
            "efcef8aff20a4cc9b7c2e380ad3c07fb",
            "55f93a78661e4d6bac72274ecf748e70",
            "82d98c5e212347b7bf9c87b8f820dc82",
            "1b6f2e7cc15c4448bc6a5e3bd878221e",
            "55f608f60bb647f0b497696d71f0563d",
            "0b62208a15364a309f81b591ef648696",
            "60715c4efad04dba9b0b67a4a231b5d7",
            "b8202ec6e47946928b77d0170dcae521"
          ]
        }
      },
      "source": [
        "#load train\n",
        "#学習に用いて良い画像は、STL10のtrain,unlabeled画像のみとする。\n",
        "#STL10のテスト画像は、上記の運営賞に用いるので、validationとして用いること\n",
        "train = torchvision.datasets.STL10(\n",
        "    root=\".\", \n",
        "    split='train', \n",
        "    folds=None,                          #０〜９で選べるぽい\n",
        "    transform=transform_train,                     #読み込み時の処理\n",
        "    target_transform=None, \n",
        "    download=True)"
      ],
      "execution_count": 6,
      "outputs": [
        {
          "output_type": "stream",
          "text": [
            "Downloading http://ai.stanford.edu/~acoates/stl10/stl10_binary.tar.gz to ./stl10_binary.tar.gz\n"
          ],
          "name": "stdout"
        },
        {
          "output_type": "display_data",
          "data": {
            "application/vnd.jupyter.widget-view+json": {
              "model_id": "efcef8aff20a4cc9b7c2e380ad3c07fb",
              "version_minor": 0,
              "version_major": 2
            },
            "text/plain": [
              "HBox(children=(IntProgress(value=1, bar_style='info', max=1), HTML(value='')))"
            ]
          },
          "metadata": {
            "tags": []
          }
        },
        {
          "output_type": "stream",
          "text": [
            "Extracting ./stl10_binary.tar.gz to .\n"
          ],
          "name": "stdout"
        }
      ]
    },
    {
      "cell_type": "code",
      "metadata": {
        "id": "FD6JXM3GWIHN",
        "colab_type": "code",
        "outputId": "3a3e8465-7040-49a4-9081-ff7b7a9314e0",
        "colab": {
          "base_uri": "https://localhost:8080/",
          "height": 204
        }
      },
      "source": [
        "#データセットの中身を確認\n",
        "train"
      ],
      "execution_count": 0,
      "outputs": [
        {
          "output_type": "execute_result",
          "data": {
            "text/plain": [
              "Dataset STL10\n",
              "    Number of datapoints: 5000\n",
              "    Root location: .\n",
              "    Split: train\n",
              "    StandardTransform\n",
              "Transform: Compose(\n",
              "               RandomResizedCrop(size=(224, 224), scale=(0.08, 1.0), ratio=(0.75, 1.3333), interpolation=PIL.Image.BILINEAR)\n",
              "               RandomHorizontalFlip(p=0.5)\n",
              "               ToTensor()\n",
              "               Normalize(mean=(0.485, 0.456, 0.406), std=(0.229, 0.224, 0.225))\n",
              "           )"
            ]
          },
          "metadata": {
            "tags": []
          },
          "execution_count": 50
        }
      ]
    },
    {
      "cell_type": "code",
      "metadata": {
        "id": "5B0tid7wX-na",
        "colab_type": "code",
        "outputId": "15fffa95-3e33-48e7-c81b-9d81aef0334d",
        "colab": {
          "base_uri": "https://localhost:8080/",
          "height": 34
        }
      },
      "source": [
        "#load test for validation\n",
        "val = torchvision.datasets.STL10(\n",
        "    root=\".\", \n",
        "    split=\"test\", \n",
        "    folds=None,                          \n",
        "    transform=transform_val,                     \n",
        "    target_transform=None, \n",
        "    download=True)"
      ],
      "execution_count": 7,
      "outputs": [
        {
          "output_type": "stream",
          "text": [
            "Files already downloaded and verified\n"
          ],
          "name": "stdout"
        }
      ]
    },
    {
      "cell_type": "code",
      "metadata": {
        "id": "0CgC-_sOYmCs",
        "colab_type": "code",
        "outputId": "09b96db9-e257-4907-99a2-779ddde449c8",
        "colab": {
          "base_uri": "https://localhost:8080/",
          "height": 187
        }
      },
      "source": [
        "val"
      ],
      "execution_count": 0,
      "outputs": [
        {
          "output_type": "execute_result",
          "data": {
            "text/plain": [
              "Dataset STL10\n",
              "    Number of datapoints: 8000\n",
              "    Root location: .\n",
              "    Split: test\n",
              "    StandardTransform\n",
              "Transform: Compose(\n",
              "               RandomResizedCrop(size=(224, 224), scale=(0.08, 1.0), ratio=(0.75, 1.3333), interpolation=PIL.Image.BILINEAR)\n",
              "               ToTensor()\n",
              "               Normalize(mean=(0.485, 0.456, 0.406), std=(0.229, 0.224, 0.225))\n",
              "           )"
            ]
          },
          "metadata": {
            "tags": []
          },
          "execution_count": 13
        }
      ]
    },
    {
      "cell_type": "code",
      "metadata": {
        "id": "rJKiV5MaY_F0",
        "colab_type": "code",
        "outputId": "3276b7dc-e712-494a-e00e-9974e803e2c5",
        "colab": {
          "base_uri": "https://localhost:8080/",
          "height": 34
        }
      },
      "source": [
        "train[0][0].shape"
      ],
      "execution_count": 0,
      "outputs": [
        {
          "output_type": "execute_result",
          "data": {
            "text/plain": [
              "torch.Size([3, 224, 224])"
            ]
          },
          "metadata": {
            "tags": []
          },
          "execution_count": 11
        }
      ]
    },
    {
      "cell_type": "code",
      "metadata": {
        "id": "8OzIEmNRaJ71",
        "colab_type": "code",
        "outputId": "ea09fcac-1697-49f9-ee5b-ba53c591cbc7",
        "colab": {
          "base_uri": "https://localhost:8080/",
          "height": 34
        }
      },
      "source": [
        "#可視化してみる\n",
        "import numpy as np\n",
        "import matplotlib.pyplot as plt\n",
        "img = np.transpose(train[2][0],(1,2,0))\n",
        "img.shape"
      ],
      "execution_count": 0,
      "outputs": [
        {
          "output_type": "execute_result",
          "data": {
            "text/plain": [
              "torch.Size([224, 224, 3])"
            ]
          },
          "metadata": {
            "tags": []
          },
          "execution_count": 12
        }
      ]
    },
    {
      "cell_type": "code",
      "metadata": {
        "id": "yy5ZkYwAab2k",
        "colab_type": "code",
        "outputId": "6252225e-4cf8-4c7c-af6d-d9defc6578dc",
        "colab": {
          "base_uri": "https://localhost:8080/",
          "height": 303
        }
      },
      "source": [
        "plt.imshow(img)"
      ],
      "execution_count": 0,
      "outputs": [
        {
          "output_type": "stream",
          "text": [
            "Clipping input data to the valid range for imshow with RGB data ([0..1] for floats or [0..255] for integers).\n"
          ],
          "name": "stderr"
        },
        {
          "output_type": "execute_result",
          "data": {
            "text/plain": [
              "<matplotlib.image.AxesImage at 0x7f01975de470>"
            ]
          },
          "metadata": {
            "tags": []
          },
          "execution_count": 13
        },
        {
          "output_type": "display_data",
          "data": {
            "image/png": "[encoded data removed]",
            "text/plain": [
              "<Figure size 432x288 with 1 Axes>"
            ]
          },
          "metadata": {
            "tags": [],
            "needs_background": "light"
          }
        }
      ]
    },
    {
      "cell_type": "code",
      "metadata": {
        "id": "KS8Y9W9bahko",
        "colab_type": "code",
        "colab": {}
      },
      "source": [
        "#type(train[0])"
      ],
      "execution_count": 0,
      "outputs": []
    },
    {
      "cell_type": "code",
      "metadata": {
        "id": "n_lmknMMbLKz",
        "colab_type": "code",
        "colab": {}
      },
      "source": [
        "#train[0][0]"
      ],
      "execution_count": 0,
      "outputs": []
    },
    {
      "cell_type": "code",
      "metadata": {
        "id": "DFF5sJODb8yJ",
        "colab_type": "code",
        "colab": {}
      },
      "source": [
        "#train[1][1]"
      ],
      "execution_count": 0,
      "outputs": []
    },
    {
      "cell_type": "code",
      "metadata": {
        "id": "yxeTN0wwcm7R",
        "colab_type": "code",
        "colab": {}
      },
      "source": [
        "batch_size = 32\n",
        "\n",
        "training_loader = torch.utils.data.DataLoader(train, batch_size=batch_size, shuffle=True)\n",
        "validation_loader = torch.utils.data.DataLoader(val, batch_size=batch_size, shuffle=False) # testはvaldationとして扱う\n",
        "\n",
        "classes = (\"airplane\",\"bird\",\"car\",\"cat\",\"deer\",\"dog\",\"horse\",\"monkey\",\"ship\",\"truck\")\n",
        "\n",
        "#dataloaders_dict = {\"train\": train_dataloader, \"val\": val_dataloader} # 辞書オブジェクトにまとめる"
      ],
      "execution_count": 0,
      "outputs": []
    },
    {
      "cell_type": "code",
      "metadata": {
        "id": "XhMLxyNIr9aO",
        "colab_type": "code",
        "colab": {}
      },
      "source": [
        "import numpy as np\n",
        "\n",
        "def mixup_data(x, y, alpha=1.0, use_cuda=True):\n",
        "\n",
        "    '''Compute the mixup data. Return mixed inputs, pairs of targets, and lambda'''\n",
        "    if alpha > 0.:\n",
        "        lam = np.random.beta(alpha, alpha)\n",
        "    else:\n",
        "        lam = 1.\n",
        "    batch_size = x.size()[0]\n",
        "    if use_cuda:\n",
        "        index = torch.randperm(batch_size).cuda()\n",
        "    else:\n",
        "        index = torch.randperm(batch_size)\n",
        "\n",
        "    mixed_x = lam * x + (1 - lam) * x[index,:]\n",
        "    y_a, y_b = y, y[index]\n",
        "    return mixed_x, y_a, y_b, lam"
      ],
      "execution_count": 0,
      "outputs": []
    },
    {
      "cell_type": "code",
      "metadata": {
        "id": "TD1aHevlsAEE",
        "colab_type": "code",
        "colab": {}
      },
      "source": [
        "(data, target) = iter(training_loader).next()\n",
        "mixed_data, target_a, target_b, lam = mixup_data(data, target, alpha=1.0, use_cuda=torch.cuda.is_available())"
      ],
      "execution_count": 0,
      "outputs": []
    },
    {
      "cell_type": "markdown",
      "metadata": {
        "id": "P0twpgfmaX5a",
        "colab_type": "text"
      },
      "source": [
        "**混同行列**\n",
        "参考：https://github.com/takoroy/mypytorch-memo"
      ]
    },
    {
      "cell_type": "code",
      "metadata": {
        "id": "0BIPBhMm5L08",
        "colab_type": "code",
        "colab": {}
      },
      "source": [
        "from sklearn.metrics import confusion_matrix\n",
        "\n",
        "def plot_confusion_matrix(cm, labels):\n",
        "    import seaborn as sns\n",
        "    import pandas as pd\n",
        "    sns.set()\n",
        "    \n",
        "    df = pd.DataFrame(cm)\n",
        "    df.index = labels\n",
        "    df.columns = labels\n",
        "\n",
        "    # Draw a heatmap with the numeric values in each cell\n",
        "    f, ax = plt.subplots(figsize=(15, 10))\n",
        "    sns.heatmap(df, annot=True, fmt=\"d\", linewidths=.5, ax=ax)\n",
        "\n",
        "def validation_confusion_matrix(model):\n",
        "    images_so_far = 0\n",
        "    fig = plt.figure()\n",
        "\n",
        "    all_labels = np.array([])\n",
        "    all_preds = np.array([])\n",
        "    for i, data in enumerate(validation_loader):\n",
        "        inputs, labels = data\n",
        "        inputs, labels = inputs.to(device), labels.to(device)\n",
        "        \n",
        "        outputs = model(inputs)\n",
        "        _, preds = torch.max(outputs.data, 1)\n",
        "        \n",
        "        all_labels = np.append(all_labels, labels.cpu().data.numpy())\n",
        "        all_preds = np.append(all_preds, preds.cpu().numpy())\n",
        "    \n",
        "    cm = confusion_matrix(all_labels, all_preds)\n",
        "    plot_confusion_matrix(cm, classes)"
      ],
      "execution_count": 0,
      "outputs": []
    },
    {
      "cell_type": "markdown",
      "metadata": {
        "id": "TjGotdFozuKq",
        "colab_type": "text"
      },
      "source": [
        "# **DenseNet**"
      ]
    },
    {
      "cell_type": "code",
      "metadata": {
        "id": "HbmDB-dgz0HS",
        "colab_type": "code",
        "colab": {
          "base_uri": "https://localhost:8080/",
          "height": 83,
          "referenced_widgets": [
            "b2e4af8542444f34ab901f8bfe5febef",
            "0383817f7fc84702a899b89e034d6323",
            "d0c0152a9202446b91f5a4619390ded6",
            "ce7655ebfae64d8ab56954c4ba2d8acb",
            "e7bd3c4cd0364ba3aa90db5cbff880d6",
            "9bcb23e2c75a4cad95b1ab617a3aaba2",
            "f8a75e6a81d94096be2affd889a37eda",
            "b5d17f1943844efc933a83151189d2d5"
          ]
        },
        "outputId": "d34ecdb7-db5e-44ff-f5c6-ef89e3b76827"
      },
      "source": [
        "device = torch.device(\"cuda:0\" if torch.cuda.is_available() else \"cpu\")\n",
        "use_pretrained = True  # 学習済みのパラメータを使用\n",
        "model = models.densenet161(pretrained=use_pretrained).to(device)"
      ],
      "execution_count": 12,
      "outputs": [
        {
          "output_type": "stream",
          "text": [
            "Downloading: \"https://download.pytorch.org/models/densenet161-8d451a50.pth\" to /root/.cache/torch/checkpoints/densenet161-8d451a50.pth\n"
          ],
          "name": "stderr"
        },
        {
          "output_type": "display_data",
          "data": {
            "application/vnd.jupyter.widget-view+json": {
              "model_id": "b2e4af8542444f34ab901f8bfe5febef",
              "version_minor": 0,
              "version_major": 2
            },
            "text/plain": [
              "HBox(children=(IntProgress(value=0, max=115730790), HTML(value='')))"
            ]
          },
          "metadata": {
            "tags": []
          }
        },
        {
          "output_type": "stream",
          "text": [
            "\n"
          ],
          "name": "stdout"
        }
      ]
    },
    {
      "cell_type": "code",
      "metadata": {
        "id": "IdrkwDtN0A3s",
        "colab_type": "code",
        "outputId": "1af59a51-0919-4c89-a412-e596b5f7e2bc",
        "colab": {
          "base_uri": "https://localhost:8080/",
          "height": 1000
        }
      },
      "source": [
        "model.classifier = nn.Linear(in_features=2208, out_features=10, bias=True).to(device)\n",
        "print(model)"
      ],
      "execution_count": 13,
      "outputs": [
        {
          "output_type": "stream",
          "text": [
            "DenseNet(\n",
            "  (features): Sequential(\n",
            "    (conv0): Conv2d(3, 96, kernel_size=(7, 7), stride=(2, 2), padding=(3, 3), bias=False)\n",
            "    (norm0): BatchNorm2d(96, eps=1e-05, momentum=0.1, affine=True, track_running_stats=True)\n",
            "    (relu0): ReLU(inplace=True)\n",
            "    (pool0): MaxPool2d(kernel_size=3, stride=2, padding=1, dilation=1, ceil_mode=False)\n",
            "    (denseblock1): _DenseBlock(\n",
            "      (denselayer1): _DenseLayer(\n",
            "        (norm1): BatchNorm2d(96, eps=1e-05, momentum=0.1, affine=True, track_running_stats=True)\n",
            "        (relu1): ReLU(inplace=True)\n",
            "        (conv1): Conv2d(96, 192, kernel_size=(1, 1), stride=(1, 1), bias=False)\n",
            "        (norm2): BatchNorm2d(192, eps=1e-05, momentum=0.1, affine=True, track_running_stats=True)\n",
            "        (relu2): ReLU(inplace=True)\n",
            "        (conv2): Conv2d(192, 48, kernel_size=(3, 3), stride=(1, 1), padding=(1, 1), bias=False)\n",
            "      )\n",
            "      (denselayer2): _DenseLayer(\n",
            "        (norm1): BatchNorm2d(144, eps=1e-05, momentum=0.1, affine=True, track_running_stats=True)\n",
            "        (relu1): ReLU(inplace=True)\n",
            "        (conv1): Conv2d(144, 192, kernel_size=(1, 1), stride=(1, 1), bias=False)\n",
            "        (norm2): BatchNorm2d(192, eps=1e-05, momentum=0.1, affine=True, track_running_stats=True)\n",
            "        (relu2): ReLU(inplace=True)\n",
            "        (conv2): Conv2d(192, 48, kernel_size=(3, 3), stride=(1, 1), padding=(1, 1), bias=False)\n",
            "      )\n",
            "      (denselayer3): _DenseLayer(\n",
            "        (norm1): BatchNorm2d(192, eps=1e-05, momentum=0.1, affine=True, track_running_stats=True)\n",
            "        (relu1): ReLU(inplace=True)\n",
            "        (conv1): Conv2d(192, 192, kernel_size=(1, 1), stride=(1, 1), bias=False)\n",
            "        (norm2): BatchNorm2d(192, eps=1e-05, momentum=0.1, affine=True, track_running_stats=True)\n",
            "        (relu2): ReLU(inplace=True)\n",
            "        (conv2): Conv2d(192, 48, kernel_size=(3, 3), stride=(1, 1), padding=(1, 1), bias=False)\n",
            "      )\n",
            "      (denselayer4): _DenseLayer(\n",
            "        (norm1): BatchNorm2d(240, eps=1e-05, momentum=0.1, affine=True, track_running_stats=True)\n",
            "        (relu1): ReLU(inplace=True)\n",
            "        (conv1): Conv2d(240, 192, kernel_size=(1, 1), stride=(1, 1), bias=False)\n",
            "        (norm2): BatchNorm2d(192, eps=1e-05, momentum=0.1, affine=True, track_running_stats=True)\n",
            "        (relu2): ReLU(inplace=True)\n",
            "        (conv2): Conv2d(192, 48, kernel_size=(3, 3), stride=(1, 1), padding=(1, 1), bias=False)\n",
            "      )\n",
            "      (denselayer5): _DenseLayer(\n",
            "        (norm1): BatchNorm2d(288, eps=1e-05, momentum=0.1, affine=True, track_running_stats=True)\n",
            "        (relu1): ReLU(inplace=True)\n",
            "        (conv1): Conv2d(288, 192, kernel_size=(1, 1), stride=(1, 1), bias=False)\n",
            "        (norm2): BatchNorm2d(192, eps=1e-05, momentum=0.1, affine=True, track_running_stats=True)\n",
            "        (relu2): ReLU(inplace=True)\n",
            "        (conv2): Conv2d(192, 48, kernel_size=(3, 3), stride=(1, 1), padding=(1, 1), bias=False)\n",
            "      )\n",
            "      (denselayer6): _DenseLayer(\n",
            "        (norm1): BatchNorm2d(336, eps=1e-05, momentum=0.1, affine=True, track_running_stats=True)\n",
            "        (relu1): ReLU(inplace=True)\n",
            "        (conv1): Conv2d(336, 192, kernel_size=(1, 1), stride=(1, 1), bias=False)\n",
            "        (norm2): BatchNorm2d(192, eps=1e-05, momentum=0.1, affine=True, track_running_stats=True)\n",
            "        (relu2): ReLU(inplace=True)\n",
            "        (conv2): Conv2d(192, 48, kernel_size=(3, 3), stride=(1, 1), padding=(1, 1), bias=False)\n",
            "      )\n",
            "    )\n",
            "    (transition1): _Transition(\n",
            "      (norm): BatchNorm2d(384, eps=1e-05, momentum=0.1, affine=True, track_running_stats=True)\n",
            "      (relu): ReLU(inplace=True)\n",
            "      (conv): Conv2d(384, 192, kernel_size=(1, 1), stride=(1, 1), bias=False)\n",
            "      (pool): AvgPool2d(kernel_size=2, stride=2, padding=0)\n",
            "    )\n",
            "    (denseblock2): _DenseBlock(\n",
            "      (denselayer1): _DenseLayer(\n",
            "        (norm1): BatchNorm2d(192, eps=1e-05, momentum=0.1, affine=True, track_running_stats=True)\n",
            "        (relu1): ReLU(inplace=True)\n",
            "        (conv1): Conv2d(192, 192, kernel_size=(1, 1), stride=(1, 1), bias=False)\n",
            "        (norm2): BatchNorm2d(192, eps=1e-05, momentum=0.1, affine=True, track_running_stats=True)\n",
            "        (relu2): ReLU(inplace=True)\n",
            "        (conv2): Conv2d(192, 48, kernel_size=(3, 3), stride=(1, 1), padding=(1, 1), bias=False)\n",
            "      )\n",
            "      (denselayer2): _DenseLayer(\n",
            "        (norm1): BatchNorm2d(240, eps=1e-05, momentum=0.1, affine=True, track_running_stats=True)\n",
            "        (relu1): ReLU(inplace=True)\n",
            "        (conv1): Conv2d(240, 192, kernel_size=(1, 1), stride=(1, 1), bias=False)\n",
            "        (norm2): BatchNorm2d(192, eps=1e-05, momentum=0.1, affine=True, track_running_stats=True)\n",
            "        (relu2): ReLU(inplace=True)\n",
            "        (conv2): Conv2d(192, 48, kernel_size=(3, 3), stride=(1, 1), padding=(1, 1), bias=False)\n",
            "      )\n",
            "      (denselayer3): _DenseLayer(\n",
            "        (norm1): BatchNorm2d(288, eps=1e-05, momentum=0.1, affine=True, track_running_stats=True)\n",
            "        (relu1): ReLU(inplace=True)\n",
            "        (conv1): Conv2d(288, 192, kernel_size=(1, 1), stride=(1, 1), bias=False)\n",
            "        (norm2): BatchNorm2d(192, eps=1e-05, momentum=0.1, affine=True, track_running_stats=True)\n",
            "        (relu2): ReLU(inplace=True)\n",
            "        (conv2): Conv2d(192, 48, kernel_size=(3, 3), stride=(1, 1), padding=(1, 1), bias=False)\n",
            "      )\n",
            "      (denselayer4): _DenseLayer(\n",
            "        (norm1): BatchNorm2d(336, eps=1e-05, momentum=0.1, affine=True, track_running_stats=True)\n",
            "        (relu1): ReLU(inplace=True)\n",
            "        (conv1): Conv2d(336, 192, kernel_size=(1, 1), stride=(1, 1), bias=False)\n",
            "        (norm2): BatchNorm2d(192, eps=1e-05, momentum=0.1, affine=True, track_running_stats=True)\n",
            "        (relu2): ReLU(inplace=True)\n",
            "        (conv2): Conv2d(192, 48, kernel_size=(3, 3), stride=(1, 1), padding=(1, 1), bias=False)\n",
            "      )\n",
            "      (denselayer5): _DenseLayer(\n",
            "        (norm1): BatchNorm2d(384, eps=1e-05, momentum=0.1, affine=True, track_running_stats=True)\n",
            "        (relu1): ReLU(inplace=True)\n",
            "        (conv1): Conv2d(384, 192, kernel_size=(1, 1), stride=(1, 1), bias=False)\n",
            "        (norm2): BatchNorm2d(192, eps=1e-05, momentum=0.1, affine=True, track_running_stats=True)\n",
            "        (relu2): ReLU(inplace=True)\n",
            "        (conv2): Conv2d(192, 48, kernel_size=(3, 3), stride=(1, 1), padding=(1, 1), bias=False)\n",
            "      )\n",
            "      (denselayer6): _DenseLayer(\n",
            "        (norm1): BatchNorm2d(432, eps=1e-05, momentum=0.1, affine=True, track_running_stats=True)\n",
            "        (relu1): ReLU(inplace=True)\n",
            "        (conv1): Conv2d(432, 192, kernel_size=(1, 1), stride=(1, 1), bias=False)\n",
            "        (norm2): BatchNorm2d(192, eps=1e-05, momentum=0.1, affine=True, track_running_stats=True)\n",
            "        (relu2): ReLU(inplace=True)\n",
            "        (conv2): Conv2d(192, 48, kernel_size=(3, 3), stride=(1, 1), padding=(1, 1), bias=False)\n",
            "      )\n",
            "      (denselayer7): _DenseLayer(\n",
            "        (norm1): BatchNorm2d(480, eps=1e-05, momentum=0.1, affine=True, track_running_stats=True)\n",
            "        (relu1): ReLU(inplace=True)\n",
            "        (conv1): Conv2d(480, 192, kernel_size=(1, 1), stride=(1, 1), bias=False)\n",
            "        (norm2): BatchNorm2d(192, eps=1e-05, momentum=0.1, affine=True, track_running_stats=True)\n",
            "        (relu2): ReLU(inplace=True)\n",
            "        (conv2): Conv2d(192, 48, kernel_size=(3, 3), stride=(1, 1), padding=(1, 1), bias=False)\n",
            "      )\n",
            "      (denselayer8): _DenseLayer(\n",
            "        (norm1): BatchNorm2d(528, eps=1e-05, momentum=0.1, affine=True, track_running_stats=True)\n",
            "        (relu1): ReLU(inplace=True)\n",
            "        (conv1): Conv2d(528, 192, kernel_size=(1, 1), stride=(1, 1), bias=False)\n",
            "        (norm2): BatchNorm2d(192, eps=1e-05, momentum=0.1, affine=True, track_running_stats=True)\n",
            "        (relu2): ReLU(inplace=True)\n",
            "        (conv2): Conv2d(192, 48, kernel_size=(3, 3), stride=(1, 1), padding=(1, 1), bias=False)\n",
            "      )\n",
            "      (denselayer9): _DenseLayer(\n",
            "        (norm1): BatchNorm2d(576, eps=1e-05, momentum=0.1, affine=True, track_running_stats=True)\n",
            "        (relu1): ReLU(inplace=True)\n",
            "        (conv1): Conv2d(576, 192, kernel_size=(1, 1), stride=(1, 1), bias=False)\n",
            "        (norm2): BatchNorm2d(192, eps=1e-05, momentum=0.1, affine=True, track_running_stats=True)\n",
            "        (relu2): ReLU(inplace=True)\n",
            "        (conv2): Conv2d(192, 48, kernel_size=(3, 3), stride=(1, 1), padding=(1, 1), bias=False)\n",
            "      )\n",
            "      (denselayer10): _DenseLayer(\n",
            "        (norm1): BatchNorm2d(624, eps=1e-05, momentum=0.1, affine=True, track_running_stats=True)\n",
            "        (relu1): ReLU(inplace=True)\n",
            "        (conv1): Conv2d(624, 192, kernel_size=(1, 1), stride=(1, 1), bias=False)\n",
            "        (norm2): BatchNorm2d(192, eps=1e-05, momentum=0.1, affine=True, track_running_stats=True)\n",
            "        (relu2): ReLU(inplace=True)\n",
            "        (conv2): Conv2d(192, 48, kernel_size=(3, 3), stride=(1, 1), padding=(1, 1), bias=False)\n",
            "      )\n",
            "      (denselayer11): _DenseLayer(\n",
            "        (norm1): BatchNorm2d(672, eps=1e-05, momentum=0.1, affine=True, track_running_stats=True)\n",
            "        (relu1): ReLU(inplace=True)\n",
            "        (conv1): Conv2d(672, 192, kernel_size=(1, 1), stride=(1, 1), bias=False)\n",
            "        (norm2): BatchNorm2d(192, eps=1e-05, momentum=0.1, affine=True, track_running_stats=True)\n",
            "        (relu2): ReLU(inplace=True)\n",
            "        (conv2): Conv2d(192, 48, kernel_size=(3, 3), stride=(1, 1), padding=(1, 1), bias=False)\n",
            "      )\n",
            "      (denselayer12): _DenseLayer(\n",
            "        (norm1): BatchNorm2d(720, eps=1e-05, momentum=0.1, affine=True, track_running_stats=True)\n",
            "        (relu1): ReLU(inplace=True)\n",
            "        (conv1): Conv2d(720, 192, kernel_size=(1, 1), stride=(1, 1), bias=False)\n",
            "        (norm2): BatchNorm2d(192, eps=1e-05, momentum=0.1, affine=True, track_running_stats=True)\n",
            "        (relu2): ReLU(inplace=True)\n",
            "        (conv2): Conv2d(192, 48, kernel_size=(3, 3), stride=(1, 1), padding=(1, 1), bias=False)\n",
            "      )\n",
            "    )\n",
            "    (transition2): _Transition(\n",
            "      (norm): BatchNorm2d(768, eps=1e-05, momentum=0.1, affine=True, track_running_stats=True)\n",
            "      (relu): ReLU(inplace=True)\n",
            "      (conv): Conv2d(768, 384, kernel_size=(1, 1), stride=(1, 1), bias=False)\n",
            "      (pool): AvgPool2d(kernel_size=2, stride=2, padding=0)\n",
            "    )\n",
            "    (denseblock3): _DenseBlock(\n",
            "      (denselayer1): _DenseLayer(\n",
            "        (norm1): BatchNorm2d(384, eps=1e-05, momentum=0.1, affine=True, track_running_stats=True)\n",
            "        (relu1): ReLU(inplace=True)\n",
            "        (conv1): Conv2d(384, 192, kernel_size=(1, 1), stride=(1, 1), bias=False)\n",
            "        (norm2): BatchNorm2d(192, eps=1e-05, momentum=0.1, affine=True, track_running_stats=True)\n",
            "        (relu2): ReLU(inplace=True)\n",
            "        (conv2): Conv2d(192, 48, kernel_size=(3, 3), stride=(1, 1), padding=(1, 1), bias=False)\n",
            "      )\n",
            "      (denselayer2): _DenseLayer(\n",
            "        (norm1): BatchNorm2d(432, eps=1e-05, momentum=0.1, affine=True, track_running_stats=True)\n",
            "        (relu1): ReLU(inplace=True)\n",
            "        (conv1): Conv2d(432, 192, kernel_size=(1, 1), stride=(1, 1), bias=False)\n",
            "        (norm2): BatchNorm2d(192, eps=1e-05, momentum=0.1, affine=True, track_running_stats=True)\n",
            "        (relu2): ReLU(inplace=True)\n",
            "        (conv2): Conv2d(192, 48, kernel_size=(3, 3), stride=(1, 1), padding=(1, 1), bias=False)\n",
            "      )\n",
            "      (denselayer3): _DenseLayer(\n",
            "        (norm1): BatchNorm2d(480, eps=1e-05, momentum=0.1, affine=True, track_running_stats=True)\n",
            "        (relu1): ReLU(inplace=True)\n",
            "        (conv1): Conv2d(480, 192, kernel_size=(1, 1), stride=(1, 1), bias=False)\n",
            "        (norm2): BatchNorm2d(192, eps=1e-05, momentum=0.1, affine=True, track_running_stats=True)\n",
            "        (relu2): ReLU(inplace=True)\n",
            "        (conv2): Conv2d(192, 48, kernel_size=(3, 3), stride=(1, 1), padding=(1, 1), bias=False)\n",
            "      )\n",
            "      (denselayer4): _DenseLayer(\n",
            "        (norm1): BatchNorm2d(528, eps=1e-05, momentum=0.1, affine=True, track_running_stats=True)\n",
            "        (relu1): ReLU(inplace=True)\n",
            "        (conv1): Conv2d(528, 192, kernel_size=(1, 1), stride=(1, 1), bias=False)\n",
            "        (norm2): BatchNorm2d(192, eps=1e-05, momentum=0.1, affine=True, track_running_stats=True)\n",
            "        (relu2): ReLU(inplace=True)\n",
            "        (conv2): Conv2d(192, 48, kernel_size=(3, 3), stride=(1, 1), padding=(1, 1), bias=False)\n",
            "      )\n",
            "      (denselayer5): _DenseLayer(\n",
            "        (norm1): BatchNorm2d(576, eps=1e-05, momentum=0.1, affine=True, track_running_stats=True)\n",
            "        (relu1): ReLU(inplace=True)\n",
            "        (conv1): Conv2d(576, 192, kernel_size=(1, 1), stride=(1, 1), bias=False)\n",
            "        (norm2): BatchNorm2d(192, eps=1e-05, momentum=0.1, affine=True, track_running_stats=True)\n",
            "        (relu2): ReLU(inplace=True)\n",
            "        (conv2): Conv2d(192, 48, kernel_size=(3, 3), stride=(1, 1), padding=(1, 1), bias=False)\n",
            "      )\n",
            "      (denselayer6): _DenseLayer(\n",
            "        (norm1): BatchNorm2d(624, eps=1e-05, momentum=0.1, affine=True, track_running_stats=True)\n",
            "        (relu1): ReLU(inplace=True)\n",
            "        (conv1): Conv2d(624, 192, kernel_size=(1, 1), stride=(1, 1), bias=False)\n",
            "        (norm2): BatchNorm2d(192, eps=1e-05, momentum=0.1, affine=True, track_running_stats=True)\n",
            "        (relu2): ReLU(inplace=True)\n",
            "        (conv2): Conv2d(192, 48, kernel_size=(3, 3), stride=(1, 1), padding=(1, 1), bias=False)\n",
            "      )\n",
            "      (denselayer7): _DenseLayer(\n",
            "        (norm1): BatchNorm2d(672, eps=1e-05, momentum=0.1, affine=True, track_running_stats=True)\n",
            "        (relu1): ReLU(inplace=True)\n",
            "        (conv1): Conv2d(672, 192, kernel_size=(1, 1), stride=(1, 1), bias=False)\n",
            "        (norm2): BatchNorm2d(192, eps=1e-05, momentum=0.1, affine=True, track_running_stats=True)\n",
            "        (relu2): ReLU(inplace=True)\n",
            "        (conv2): Conv2d(192, 48, kernel_size=(3, 3), stride=(1, 1), padding=(1, 1), bias=False)\n",
            "      )\n",
            "      (denselayer8): _DenseLayer(\n",
            "        (norm1): BatchNorm2d(720, eps=1e-05, momentum=0.1, affine=True, track_running_stats=True)\n",
            "        (relu1): ReLU(inplace=True)\n",
            "        (conv1): Conv2d(720, 192, kernel_size=(1, 1), stride=(1, 1), bias=False)\n",
            "        (norm2): BatchNorm2d(192, eps=1e-05, momentum=0.1, affine=True, track_running_stats=True)\n",
            "        (relu2): ReLU(inplace=True)\n",
            "        (conv2): Conv2d(192, 48, kernel_size=(3, 3), stride=(1, 1), padding=(1, 1), bias=False)\n",
            "      )\n",
            "      (denselayer9): _DenseLayer(\n",
            "        (norm1): BatchNorm2d(768, eps=1e-05, momentum=0.1, affine=True, track_running_stats=True)\n",
            "        (relu1): ReLU(inplace=True)\n",
            "        (conv1): Conv2d(768, 192, kernel_size=(1, 1), stride=(1, 1), bias=False)\n",
            "        (norm2): BatchNorm2d(192, eps=1e-05, momentum=0.1, affine=True, track_running_stats=True)\n",
            "        (relu2): ReLU(inplace=True)\n",
            "        (conv2): Conv2d(192, 48, kernel_size=(3, 3), stride=(1, 1), padding=(1, 1), bias=False)\n",
            "      )\n",
            "      (denselayer10): _DenseLayer(\n",
            "        (norm1): BatchNorm2d(816, eps=1e-05, momentum=0.1, affine=True, track_running_stats=True)\n",
            "        (relu1): ReLU(inplace=True)\n",
            "        (conv1): Conv2d(816, 192, kernel_size=(1, 1), stride=(1, 1), bias=False)\n",
            "        (norm2): BatchNorm2d(192, eps=1e-05, momentum=0.1, affine=True, track_running_stats=True)\n",
            "        (relu2): ReLU(inplace=True)\n",
            "        (conv2): Conv2d(192, 48, kernel_size=(3, 3), stride=(1, 1), padding=(1, 1), bias=False)\n",
            "      )\n",
            "      (denselayer11): _DenseLayer(\n",
            "        (norm1): BatchNorm2d(864, eps=1e-05, momentum=0.1, affine=True, track_running_stats=True)\n",
            "        (relu1): ReLU(inplace=True)\n",
            "        (conv1): Conv2d(864, 192, kernel_size=(1, 1), stride=(1, 1), bias=False)\n",
            "        (norm2): BatchNorm2d(192, eps=1e-05, momentum=0.1, affine=True, track_running_stats=True)\n",
            "        (relu2): ReLU(inplace=True)\n",
            "        (conv2): Conv2d(192, 48, kernel_size=(3, 3), stride=(1, 1), padding=(1, 1), bias=False)\n",
            "      )\n",
            "      (denselayer12): _DenseLayer(\n",
            "        (norm1): BatchNorm2d(912, eps=1e-05, momentum=0.1, affine=True, track_running_stats=True)\n",
            "        (relu1): ReLU(inplace=True)\n",
            "        (conv1): Conv2d(912, 192, kernel_size=(1, 1), stride=(1, 1), bias=False)\n",
            "        (norm2): BatchNorm2d(192, eps=1e-05, momentum=0.1, affine=True, track_running_stats=True)\n",
            "        (relu2): ReLU(inplace=True)\n",
            "        (conv2): Conv2d(192, 48, kernel_size=(3, 3), stride=(1, 1), padding=(1, 1), bias=False)\n",
            "      )\n",
            "      (denselayer13): _DenseLayer(\n",
            "        (norm1): BatchNorm2d(960, eps=1e-05, momentum=0.1, affine=True, track_running_stats=True)\n",
            "        (relu1): ReLU(inplace=True)\n",
            "        (conv1): Conv2d(960, 192, kernel_size=(1, 1), stride=(1, 1), bias=False)\n",
            "        (norm2): BatchNorm2d(192, eps=1e-05, momentum=0.1, affine=True, track_running_stats=True)\n",
            "        (relu2): ReLU(inplace=True)\n",
            "        (conv2): Conv2d(192, 48, kernel_size=(3, 3), stride=(1, 1), padding=(1, 1), bias=False)\n",
            "      )\n",
            "      (denselayer14): _DenseLayer(\n",
            "        (norm1): BatchNorm2d(1008, eps=1e-05, momentum=0.1, affine=True, track_running_stats=True)\n",
            "        (relu1): ReLU(inplace=True)\n",
            "        (conv1): Conv2d(1008, 192, kernel_size=(1, 1), stride=(1, 1), bias=False)\n",
            "        (norm2): BatchNorm2d(192, eps=1e-05, momentum=0.1, affine=True, track_running_stats=True)\n",
            "        (relu2): ReLU(inplace=True)\n",
            "        (conv2): Conv2d(192, 48, kernel_size=(3, 3), stride=(1, 1), padding=(1, 1), bias=False)\n",
            "      )\n",
            "      (denselayer15): _DenseLayer(\n",
            "        (norm1): BatchNorm2d(1056, eps=1e-05, momentum=0.1, affine=True, track_running_stats=True)\n",
            "        (relu1): ReLU(inplace=True)\n",
            "        (conv1): Conv2d(1056, 192, kernel_size=(1, 1), stride=(1, 1), bias=False)\n",
            "        (norm2): BatchNorm2d(192, eps=1e-05, momentum=0.1, affine=True, track_running_stats=True)\n",
            "        (relu2): ReLU(inplace=True)\n",
            "        (conv2): Conv2d(192, 48, kernel_size=(3, 3), stride=(1, 1), padding=(1, 1), bias=False)\n",
            "      )\n",
            "      (denselayer16): _DenseLayer(\n",
            "        (norm1): BatchNorm2d(1104, eps=1e-05, momentum=0.1, affine=True, track_running_stats=True)\n",
            "        (relu1): ReLU(inplace=True)\n",
            "        (conv1): Conv2d(1104, 192, kernel_size=(1, 1), stride=(1, 1), bias=False)\n",
            "        (norm2): BatchNorm2d(192, eps=1e-05, momentum=0.1, affine=True, track_running_stats=True)\n",
            "        (relu2): ReLU(inplace=True)\n",
            "        (conv2): Conv2d(192, 48, kernel_size=(3, 3), stride=(1, 1), padding=(1, 1), bias=False)\n",
            "      )\n",
            "      (denselayer17): _DenseLayer(\n",
            "        (norm1): BatchNorm2d(1152, eps=1e-05, momentum=0.1, affine=True, track_running_stats=True)\n",
            "        (relu1): ReLU(inplace=True)\n",
            "        (conv1): Conv2d(1152, 192, kernel_size=(1, 1), stride=(1, 1), bias=False)\n",
            "        (norm2): BatchNorm2d(192, eps=1e-05, momentum=0.1, affine=True, track_running_stats=True)\n",
            "        (relu2): ReLU(inplace=True)\n",
            "        (conv2): Conv2d(192, 48, kernel_size=(3, 3), stride=(1, 1), padding=(1, 1), bias=False)\n",
            "      )\n",
            "      (denselayer18): _DenseLayer(\n",
            "        (norm1): BatchNorm2d(1200, eps=1e-05, momentum=0.1, affine=True, track_running_stats=True)\n",
            "        (relu1): ReLU(inplace=True)\n",
            "        (conv1): Conv2d(1200, 192, kernel_size=(1, 1), stride=(1, 1), bias=False)\n",
            "        (norm2): BatchNorm2d(192, eps=1e-05, momentum=0.1, affine=True, track_running_stats=True)\n",
            "        (relu2): ReLU(inplace=True)\n",
            "        (conv2): Conv2d(192, 48, kernel_size=(3, 3), stride=(1, 1), padding=(1, 1), bias=False)\n",
            "      )\n",
            "      (denselayer19): _DenseLayer(\n",
            "        (norm1): BatchNorm2d(1248, eps=1e-05, momentum=0.1, affine=True, track_running_stats=True)\n",
            "        (relu1): ReLU(inplace=True)\n",
            "        (conv1): Conv2d(1248, 192, kernel_size=(1, 1), stride=(1, 1), bias=False)\n",
            "        (norm2): BatchNorm2d(192, eps=1e-05, momentum=0.1, affine=True, track_running_stats=True)\n",
            "        (relu2): ReLU(inplace=True)\n",
            "        (conv2): Conv2d(192, 48, kernel_size=(3, 3), stride=(1, 1), padding=(1, 1), bias=False)\n",
            "      )\n",
            "      (denselayer20): _DenseLayer(\n",
            "        (norm1): BatchNorm2d(1296, eps=1e-05, momentum=0.1, affine=True, track_running_stats=True)\n",
            "        (relu1): ReLU(inplace=True)\n",
            "        (conv1): Conv2d(1296, 192, kernel_size=(1, 1), stride=(1, 1), bias=False)\n",
            "        (norm2): BatchNorm2d(192, eps=1e-05, momentum=0.1, affine=True, track_running_stats=True)\n",
            "        (relu2): ReLU(inplace=True)\n",
            "        (conv2): Conv2d(192, 48, kernel_size=(3, 3), stride=(1, 1), padding=(1, 1), bias=False)\n",
            "      )\n",
            "      (denselayer21): _DenseLayer(\n",
            "        (norm1): BatchNorm2d(1344, eps=1e-05, momentum=0.1, affine=True, track_running_stats=True)\n",
            "        (relu1): ReLU(inplace=True)\n",
            "        (conv1): Conv2d(1344, 192, kernel_size=(1, 1), stride=(1, 1), bias=False)\n",
            "        (norm2): BatchNorm2d(192, eps=1e-05, momentum=0.1, affine=True, track_running_stats=True)\n",
            "        (relu2): ReLU(inplace=True)\n",
            "        (conv2): Conv2d(192, 48, kernel_size=(3, 3), stride=(1, 1), padding=(1, 1), bias=False)\n",
            "      )\n",
            "      (denselayer22): _DenseLayer(\n",
            "        (norm1): BatchNorm2d(1392, eps=1e-05, momentum=0.1, affine=True, track_running_stats=True)\n",
            "        (relu1): ReLU(inplace=True)\n",
            "        (conv1): Conv2d(1392, 192, kernel_size=(1, 1), stride=(1, 1), bias=False)\n",
            "        (norm2): BatchNorm2d(192, eps=1e-05, momentum=0.1, affine=True, track_running_stats=True)\n",
            "        (relu2): ReLU(inplace=True)\n",
            "        (conv2): Conv2d(192, 48, kernel_size=(3, 3), stride=(1, 1), padding=(1, 1), bias=False)\n",
            "      )\n",
            "      (denselayer23): _DenseLayer(\n",
            "        (norm1): BatchNorm2d(1440, eps=1e-05, momentum=0.1, affine=True, track_running_stats=True)\n",
            "        (relu1): ReLU(inplace=True)\n",
            "        (conv1): Conv2d(1440, 192, kernel_size=(1, 1), stride=(1, 1), bias=False)\n",
            "        (norm2): BatchNorm2d(192, eps=1e-05, momentum=0.1, affine=True, track_running_stats=True)\n",
            "        (relu2): ReLU(inplace=True)\n",
            "        (conv2): Conv2d(192, 48, kernel_size=(3, 3), stride=(1, 1), padding=(1, 1), bias=False)\n",
            "      )\n",
            "      (denselayer24): _DenseLayer(\n",
            "        (norm1): BatchNorm2d(1488, eps=1e-05, momentum=0.1, affine=True, track_running_stats=True)\n",
            "        (relu1): ReLU(inplace=True)\n",
            "        (conv1): Conv2d(1488, 192, kernel_size=(1, 1), stride=(1, 1), bias=False)\n",
            "        (norm2): BatchNorm2d(192, eps=1e-05, momentum=0.1, affine=True, track_running_stats=True)\n",
            "        (relu2): ReLU(inplace=True)\n",
            "        (conv2): Conv2d(192, 48, kernel_size=(3, 3), stride=(1, 1), padding=(1, 1), bias=False)\n",
            "      )\n",
            "      (denselayer25): _DenseLayer(\n",
            "        (norm1): BatchNorm2d(1536, eps=1e-05, momentum=0.1, affine=True, track_running_stats=True)\n",
            "        (relu1): ReLU(inplace=True)\n",
            "        (conv1): Conv2d(1536, 192, kernel_size=(1, 1), stride=(1, 1), bias=False)\n",
            "        (norm2): BatchNorm2d(192, eps=1e-05, momentum=0.1, affine=True, track_running_stats=True)\n",
            "        (relu2): ReLU(inplace=True)\n",
            "        (conv2): Conv2d(192, 48, kernel_size=(3, 3), stride=(1, 1), padding=(1, 1), bias=False)\n",
            "      )\n",
            "      (denselayer26): _DenseLayer(\n",
            "        (norm1): BatchNorm2d(1584, eps=1e-05, momentum=0.1, affine=True, track_running_stats=True)\n",
            "        (relu1): ReLU(inplace=True)\n",
            "        (conv1): Conv2d(1584, 192, kernel_size=(1, 1), stride=(1, 1), bias=False)\n",
            "        (norm2): BatchNorm2d(192, eps=1e-05, momentum=0.1, affine=True, track_running_stats=True)\n",
            "        (relu2): ReLU(inplace=True)\n",
            "        (conv2): Conv2d(192, 48, kernel_size=(3, 3), stride=(1, 1), padding=(1, 1), bias=False)\n",
            "      )\n",
            "      (denselayer27): _DenseLayer(\n",
            "        (norm1): BatchNorm2d(1632, eps=1e-05, momentum=0.1, affine=True, track_running_stats=True)\n",
            "        (relu1): ReLU(inplace=True)\n",
            "        (conv1): Conv2d(1632, 192, kernel_size=(1, 1), stride=(1, 1), bias=False)\n",
            "        (norm2): BatchNorm2d(192, eps=1e-05, momentum=0.1, affine=True, track_running_stats=True)\n",
            "        (relu2): ReLU(inplace=True)\n",
            "        (conv2): Conv2d(192, 48, kernel_size=(3, 3), stride=(1, 1), padding=(1, 1), bias=False)\n",
            "      )\n",
            "      (denselayer28): _DenseLayer(\n",
            "        (norm1): BatchNorm2d(1680, eps=1e-05, momentum=0.1, affine=True, track_running_stats=True)\n",
            "        (relu1): ReLU(inplace=True)\n",
            "        (conv1): Conv2d(1680, 192, kernel_size=(1, 1), stride=(1, 1), bias=False)\n",
            "        (norm2): BatchNorm2d(192, eps=1e-05, momentum=0.1, affine=True, track_running_stats=True)\n",
            "        (relu2): ReLU(inplace=True)\n",
            "        (conv2): Conv2d(192, 48, kernel_size=(3, 3), stride=(1, 1), padding=(1, 1), bias=False)\n",
            "      )\n",
            "      (denselayer29): _DenseLayer(\n",
            "        (norm1): BatchNorm2d(1728, eps=1e-05, momentum=0.1, affine=True, track_running_stats=True)\n",
            "        (relu1): ReLU(inplace=True)\n",
            "        (conv1): Conv2d(1728, 192, kernel_size=(1, 1), stride=(1, 1), bias=False)\n",
            "        (norm2): BatchNorm2d(192, eps=1e-05, momentum=0.1, affine=True, track_running_stats=True)\n",
            "        (relu2): ReLU(inplace=True)\n",
            "        (conv2): Conv2d(192, 48, kernel_size=(3, 3), stride=(1, 1), padding=(1, 1), bias=False)\n",
            "      )\n",
            "      (denselayer30): _DenseLayer(\n",
            "        (norm1): BatchNorm2d(1776, eps=1e-05, momentum=0.1, affine=True, track_running_stats=True)\n",
            "        (relu1): ReLU(inplace=True)\n",
            "        (conv1): Conv2d(1776, 192, kernel_size=(1, 1), stride=(1, 1), bias=False)\n",
            "        (norm2): BatchNorm2d(192, eps=1e-05, momentum=0.1, affine=True, track_running_stats=True)\n",
            "        (relu2): ReLU(inplace=True)\n",
            "        (conv2): Conv2d(192, 48, kernel_size=(3, 3), stride=(1, 1), padding=(1, 1), bias=False)\n",
            "      )\n",
            "      (denselayer31): _DenseLayer(\n",
            "        (norm1): BatchNorm2d(1824, eps=1e-05, momentum=0.1, affine=True, track_running_stats=True)\n",
            "        (relu1): ReLU(inplace=True)\n",
            "        (conv1): Conv2d(1824, 192, kernel_size=(1, 1), stride=(1, 1), bias=False)\n",
            "        (norm2): BatchNorm2d(192, eps=1e-05, momentum=0.1, affine=True, track_running_stats=True)\n",
            "        (relu2): ReLU(inplace=True)\n",
            "        (conv2): Conv2d(192, 48, kernel_size=(3, 3), stride=(1, 1), padding=(1, 1), bias=False)\n",
            "      )\n",
            "      (denselayer32): _DenseLayer(\n",
            "        (norm1): BatchNorm2d(1872, eps=1e-05, momentum=0.1, affine=True, track_running_stats=True)\n",
            "        (relu1): ReLU(inplace=True)\n",
            "        (conv1): Conv2d(1872, 192, kernel_size=(1, 1), stride=(1, 1), bias=False)\n",
            "        (norm2): BatchNorm2d(192, eps=1e-05, momentum=0.1, affine=True, track_running_stats=True)\n",
            "        (relu2): ReLU(inplace=True)\n",
            "        (conv2): Conv2d(192, 48, kernel_size=(3, 3), stride=(1, 1), padding=(1, 1), bias=False)\n",
            "      )\n",
            "      (denselayer33): _DenseLayer(\n",
            "        (norm1): BatchNorm2d(1920, eps=1e-05, momentum=0.1, affine=True, track_running_stats=True)\n",
            "        (relu1): ReLU(inplace=True)\n",
            "        (conv1): Conv2d(1920, 192, kernel_size=(1, 1), stride=(1, 1), bias=False)\n",
            "        (norm2): BatchNorm2d(192, eps=1e-05, momentum=0.1, affine=True, track_running_stats=True)\n",
            "        (relu2): ReLU(inplace=True)\n",
            "        (conv2): Conv2d(192, 48, kernel_size=(3, 3), stride=(1, 1), padding=(1, 1), bias=False)\n",
            "      )\n",
            "      (denselayer34): _DenseLayer(\n",
            "        (norm1): BatchNorm2d(1968, eps=1e-05, momentum=0.1, affine=True, track_running_stats=True)\n",
            "        (relu1): ReLU(inplace=True)\n",
            "        (conv1): Conv2d(1968, 192, kernel_size=(1, 1), stride=(1, 1), bias=False)\n",
            "        (norm2): BatchNorm2d(192, eps=1e-05, momentum=0.1, affine=True, track_running_stats=True)\n",
            "        (relu2): ReLU(inplace=True)\n",
            "        (conv2): Conv2d(192, 48, kernel_size=(3, 3), stride=(1, 1), padding=(1, 1), bias=False)\n",
            "      )\n",
            "      (denselayer35): _DenseLayer(\n",
            "        (norm1): BatchNorm2d(2016, eps=1e-05, momentum=0.1, affine=True, track_running_stats=True)\n",
            "        (relu1): ReLU(inplace=True)\n",
            "        (conv1): Conv2d(2016, 192, kernel_size=(1, 1), stride=(1, 1), bias=False)\n",
            "        (norm2): BatchNorm2d(192, eps=1e-05, momentum=0.1, affine=True, track_running_stats=True)\n",
            "        (relu2): ReLU(inplace=True)\n",
            "        (conv2): Conv2d(192, 48, kernel_size=(3, 3), stride=(1, 1), padding=(1, 1), bias=False)\n",
            "      )\n",
            "      (denselayer36): _DenseLayer(\n",
            "        (norm1): BatchNorm2d(2064, eps=1e-05, momentum=0.1, affine=True, track_running_stats=True)\n",
            "        (relu1): ReLU(inplace=True)\n",
            "        (conv1): Conv2d(2064, 192, kernel_size=(1, 1), stride=(1, 1), bias=False)\n",
            "        (norm2): BatchNorm2d(192, eps=1e-05, momentum=0.1, affine=True, track_running_stats=True)\n",
            "        (relu2): ReLU(inplace=True)\n",
            "        (conv2): Conv2d(192, 48, kernel_size=(3, 3), stride=(1, 1), padding=(1, 1), bias=False)\n",
            "      )\n",
            "    )\n",
            "    (transition3): _Transition(\n",
            "      (norm): BatchNorm2d(2112, eps=1e-05, momentum=0.1, affine=True, track_running_stats=True)\n",
            "      (relu): ReLU(inplace=True)\n",
            "      (conv): Conv2d(2112, 1056, kernel_size=(1, 1), stride=(1, 1), bias=False)\n",
            "      (pool): AvgPool2d(kernel_size=2, stride=2, padding=0)\n",
            "    )\n",
            "    (denseblock4): _DenseBlock(\n",
            "      (denselayer1): _DenseLayer(\n",
            "        (norm1): BatchNorm2d(1056, eps=1e-05, momentum=0.1, affine=True, track_running_stats=True)\n",
            "        (relu1): ReLU(inplace=True)\n",
            "        (conv1): Conv2d(1056, 192, kernel_size=(1, 1), stride=(1, 1), bias=False)\n",
            "        (norm2): BatchNorm2d(192, eps=1e-05, momentum=0.1, affine=True, track_running_stats=True)\n",
            "        (relu2): ReLU(inplace=True)\n",
            "        (conv2): Conv2d(192, 48, kernel_size=(3, 3), stride=(1, 1), padding=(1, 1), bias=False)\n",
            "      )\n",
            "      (denselayer2): _DenseLayer(\n",
            "        (norm1): BatchNorm2d(1104, eps=1e-05, momentum=0.1, affine=True, track_running_stats=True)\n",
            "        (relu1): ReLU(inplace=True)\n",
            "        (conv1): Conv2d(1104, 192, kernel_size=(1, 1), stride=(1, 1), bias=False)\n",
            "        (norm2): BatchNorm2d(192, eps=1e-05, momentum=0.1, affine=True, track_running_stats=True)\n",
            "        (relu2): ReLU(inplace=True)\n",
            "        (conv2): Conv2d(192, 48, kernel_size=(3, 3), stride=(1, 1), padding=(1, 1), bias=False)\n",
            "      )\n",
            "      (denselayer3): _DenseLayer(\n",
            "        (norm1): BatchNorm2d(1152, eps=1e-05, momentum=0.1, affine=True, track_running_stats=True)\n",
            "        (relu1): ReLU(inplace=True)\n",
            "        (conv1): Conv2d(1152, 192, kernel_size=(1, 1), stride=(1, 1), bias=False)\n",
            "        (norm2): BatchNorm2d(192, eps=1e-05, momentum=0.1, affine=True, track_running_stats=True)\n",
            "        (relu2): ReLU(inplace=True)\n",
            "        (conv2): Conv2d(192, 48, kernel_size=(3, 3), stride=(1, 1), padding=(1, 1), bias=False)\n",
            "      )\n",
            "      (denselayer4): _DenseLayer(\n",
            "        (norm1): BatchNorm2d(1200, eps=1e-05, momentum=0.1, affine=True, track_running_stats=True)\n",
            "        (relu1): ReLU(inplace=True)\n",
            "        (conv1): Conv2d(1200, 192, kernel_size=(1, 1), stride=(1, 1), bias=False)\n",
            "        (norm2): BatchNorm2d(192, eps=1e-05, momentum=0.1, affine=True, track_running_stats=True)\n",
            "        (relu2): ReLU(inplace=True)\n",
            "        (conv2): Conv2d(192, 48, kernel_size=(3, 3), stride=(1, 1), padding=(1, 1), bias=False)\n",
            "      )\n",
            "      (denselayer5): _DenseLayer(\n",
            "        (norm1): BatchNorm2d(1248, eps=1e-05, momentum=0.1, affine=True, track_running_stats=True)\n",
            "        (relu1): ReLU(inplace=True)\n",
            "        (conv1): Conv2d(1248, 192, kernel_size=(1, 1), stride=(1, 1), bias=False)\n",
            "        (norm2): BatchNorm2d(192, eps=1e-05, momentum=0.1, affine=True, track_running_stats=True)\n",
            "        (relu2): ReLU(inplace=True)\n",
            "        (conv2): Conv2d(192, 48, kernel_size=(3, 3), stride=(1, 1), padding=(1, 1), bias=False)\n",
            "      )\n",
            "      (denselayer6): _DenseLayer(\n",
            "        (norm1): BatchNorm2d(1296, eps=1e-05, momentum=0.1, affine=True, track_running_stats=True)\n",
            "        (relu1): ReLU(inplace=True)\n",
            "        (conv1): Conv2d(1296, 192, kernel_size=(1, 1), stride=(1, 1), bias=False)\n",
            "        (norm2): BatchNorm2d(192, eps=1e-05, momentum=0.1, affine=True, track_running_stats=True)\n",
            "        (relu2): ReLU(inplace=True)\n",
            "        (conv2): Conv2d(192, 48, kernel_size=(3, 3), stride=(1, 1), padding=(1, 1), bias=False)\n",
            "      )\n",
            "      (denselayer7): _DenseLayer(\n",
            "        (norm1): BatchNorm2d(1344, eps=1e-05, momentum=0.1, affine=True, track_running_stats=True)\n",
            "        (relu1): ReLU(inplace=True)\n",
            "        (conv1): Conv2d(1344, 192, kernel_size=(1, 1), stride=(1, 1), bias=False)\n",
            "        (norm2): BatchNorm2d(192, eps=1e-05, momentum=0.1, affine=True, track_running_stats=True)\n",
            "        (relu2): ReLU(inplace=True)\n",
            "        (conv2): Conv2d(192, 48, kernel_size=(3, 3), stride=(1, 1), padding=(1, 1), bias=False)\n",
            "      )\n",
            "      (denselayer8): _DenseLayer(\n",
            "        (norm1): BatchNorm2d(1392, eps=1e-05, momentum=0.1, affine=True, track_running_stats=True)\n",
            "        (relu1): ReLU(inplace=True)\n",
            "        (conv1): Conv2d(1392, 192, kernel_size=(1, 1), stride=(1, 1), bias=False)\n",
            "        (norm2): BatchNorm2d(192, eps=1e-05, momentum=0.1, affine=True, track_running_stats=True)\n",
            "        (relu2): ReLU(inplace=True)\n",
            "        (conv2): Conv2d(192, 48, kernel_size=(3, 3), stride=(1, 1), padding=(1, 1), bias=False)\n",
            "      )\n",
            "      (denselayer9): _DenseLayer(\n",
            "        (norm1): BatchNorm2d(1440, eps=1e-05, momentum=0.1, affine=True, track_running_stats=True)\n",
            "        (relu1): ReLU(inplace=True)\n",
            "        (conv1): Conv2d(1440, 192, kernel_size=(1, 1), stride=(1, 1), bias=False)\n",
            "        (norm2): BatchNorm2d(192, eps=1e-05, momentum=0.1, affine=True, track_running_stats=True)\n",
            "        (relu2): ReLU(inplace=True)\n",
            "        (conv2): Conv2d(192, 48, kernel_size=(3, 3), stride=(1, 1), padding=(1, 1), bias=False)\n",
            "      )\n",
            "      (denselayer10): _DenseLayer(\n",
            "        (norm1): BatchNorm2d(1488, eps=1e-05, momentum=0.1, affine=True, track_running_stats=True)\n",
            "        (relu1): ReLU(inplace=True)\n",
            "        (conv1): Conv2d(1488, 192, kernel_size=(1, 1), stride=(1, 1), bias=False)\n",
            "        (norm2): BatchNorm2d(192, eps=1e-05, momentum=0.1, affine=True, track_running_stats=True)\n",
            "        (relu2): ReLU(inplace=True)\n",
            "        (conv2): Conv2d(192, 48, kernel_size=(3, 3), stride=(1, 1), padding=(1, 1), bias=False)\n",
            "      )\n",
            "      (denselayer11): _DenseLayer(\n",
            "        (norm1): BatchNorm2d(1536, eps=1e-05, momentum=0.1, affine=True, track_running_stats=True)\n",
            "        (relu1): ReLU(inplace=True)\n",
            "        (conv1): Conv2d(1536, 192, kernel_size=(1, 1), stride=(1, 1), bias=False)\n",
            "        (norm2): BatchNorm2d(192, eps=1e-05, momentum=0.1, affine=True, track_running_stats=True)\n",
            "        (relu2): ReLU(inplace=True)\n",
            "        (conv2): Conv2d(192, 48, kernel_size=(3, 3), stride=(1, 1), padding=(1, 1), bias=False)\n",
            "      )\n",
            "      (denselayer12): _DenseLayer(\n",
            "        (norm1): BatchNorm2d(1584, eps=1e-05, momentum=0.1, affine=True, track_running_stats=True)\n",
            "        (relu1): ReLU(inplace=True)\n",
            "        (conv1): Conv2d(1584, 192, kernel_size=(1, 1), stride=(1, 1), bias=False)\n",
            "        (norm2): BatchNorm2d(192, eps=1e-05, momentum=0.1, affine=True, track_running_stats=True)\n",
            "        (relu2): ReLU(inplace=True)\n",
            "        (conv2): Conv2d(192, 48, kernel_size=(3, 3), stride=(1, 1), padding=(1, 1), bias=False)\n",
            "      )\n",
            "      (denselayer13): _DenseLayer(\n",
            "        (norm1): BatchNorm2d(1632, eps=1e-05, momentum=0.1, affine=True, track_running_stats=True)\n",
            "        (relu1): ReLU(inplace=True)\n",
            "        (conv1): Conv2d(1632, 192, kernel_size=(1, 1), stride=(1, 1), bias=False)\n",
            "        (norm2): BatchNorm2d(192, eps=1e-05, momentum=0.1, affine=True, track_running_stats=True)\n",
            "        (relu2): ReLU(inplace=True)\n",
            "        (conv2): Conv2d(192, 48, kernel_size=(3, 3), stride=(1, 1), padding=(1, 1), bias=False)\n",
            "      )\n",
            "      (denselayer14): _DenseLayer(\n",
            "        (norm1): BatchNorm2d(1680, eps=1e-05, momentum=0.1, affine=True, track_running_stats=True)\n",
            "        (relu1): ReLU(inplace=True)\n",
            "        (conv1): Conv2d(1680, 192, kernel_size=(1, 1), stride=(1, 1), bias=False)\n",
            "        (norm2): BatchNorm2d(192, eps=1e-05, momentum=0.1, affine=True, track_running_stats=True)\n",
            "        (relu2): ReLU(inplace=True)\n",
            "        (conv2): Conv2d(192, 48, kernel_size=(3, 3), stride=(1, 1), padding=(1, 1), bias=False)\n",
            "      )\n",
            "      (denselayer15): _DenseLayer(\n",
            "        (norm1): BatchNorm2d(1728, eps=1e-05, momentum=0.1, affine=True, track_running_stats=True)\n",
            "        (relu1): ReLU(inplace=True)\n",
            "        (conv1): Conv2d(1728, 192, kernel_size=(1, 1), stride=(1, 1), bias=False)\n",
            "        (norm2): BatchNorm2d(192, eps=1e-05, momentum=0.1, affine=True, track_running_stats=True)\n",
            "        (relu2): ReLU(inplace=True)\n",
            "        (conv2): Conv2d(192, 48, kernel_size=(3, 3), stride=(1, 1), padding=(1, 1), bias=False)\n",
            "      )\n",
            "      (denselayer16): _DenseLayer(\n",
            "        (norm1): BatchNorm2d(1776, eps=1e-05, momentum=0.1, affine=True, track_running_stats=True)\n",
            "        (relu1): ReLU(inplace=True)\n",
            "        (conv1): Conv2d(1776, 192, kernel_size=(1, 1), stride=(1, 1), bias=False)\n",
            "        (norm2): BatchNorm2d(192, eps=1e-05, momentum=0.1, affine=True, track_running_stats=True)\n",
            "        (relu2): ReLU(inplace=True)\n",
            "        (conv2): Conv2d(192, 48, kernel_size=(3, 3), stride=(1, 1), padding=(1, 1), bias=False)\n",
            "      )\n",
            "      (denselayer17): _DenseLayer(\n",
            "        (norm1): BatchNorm2d(1824, eps=1e-05, momentum=0.1, affine=True, track_running_stats=True)\n",
            "        (relu1): ReLU(inplace=True)\n",
            "        (conv1): Conv2d(1824, 192, kernel_size=(1, 1), stride=(1, 1), bias=False)\n",
            "        (norm2): BatchNorm2d(192, eps=1e-05, momentum=0.1, affine=True, track_running_stats=True)\n",
            "        (relu2): ReLU(inplace=True)\n",
            "        (conv2): Conv2d(192, 48, kernel_size=(3, 3), stride=(1, 1), padding=(1, 1), bias=False)\n",
            "      )\n",
            "      (denselayer18): _DenseLayer(\n",
            "        (norm1): BatchNorm2d(1872, eps=1e-05, momentum=0.1, affine=True, track_running_stats=True)\n",
            "        (relu1): ReLU(inplace=True)\n",
            "        (conv1): Conv2d(1872, 192, kernel_size=(1, 1), stride=(1, 1), bias=False)\n",
            "        (norm2): BatchNorm2d(192, eps=1e-05, momentum=0.1, affine=True, track_running_stats=True)\n",
            "        (relu2): ReLU(inplace=True)\n",
            "        (conv2): Conv2d(192, 48, kernel_size=(3, 3), stride=(1, 1), padding=(1, 1), bias=False)\n",
            "      )\n",
            "      (denselayer19): _DenseLayer(\n",
            "        (norm1): BatchNorm2d(1920, eps=1e-05, momentum=0.1, affine=True, track_running_stats=True)\n",
            "        (relu1): ReLU(inplace=True)\n",
            "        (conv1): Conv2d(1920, 192, kernel_size=(1, 1), stride=(1, 1), bias=False)\n",
            "        (norm2): BatchNorm2d(192, eps=1e-05, momentum=0.1, affine=True, track_running_stats=True)\n",
            "        (relu2): ReLU(inplace=True)\n",
            "        (conv2): Conv2d(192, 48, kernel_size=(3, 3), stride=(1, 1), padding=(1, 1), bias=False)\n",
            "      )\n",
            "      (denselayer20): _DenseLayer(\n",
            "        (norm1): BatchNorm2d(1968, eps=1e-05, momentum=0.1, affine=True, track_running_stats=True)\n",
            "        (relu1): ReLU(inplace=True)\n",
            "        (conv1): Conv2d(1968, 192, kernel_size=(1, 1), stride=(1, 1), bias=False)\n",
            "        (norm2): BatchNorm2d(192, eps=1e-05, momentum=0.1, affine=True, track_running_stats=True)\n",
            "        (relu2): ReLU(inplace=True)\n",
            "        (conv2): Conv2d(192, 48, kernel_size=(3, 3), stride=(1, 1), padding=(1, 1), bias=False)\n",
            "      )\n",
            "      (denselayer21): _DenseLayer(\n",
            "        (norm1): BatchNorm2d(2016, eps=1e-05, momentum=0.1, affine=True, track_running_stats=True)\n",
            "        (relu1): ReLU(inplace=True)\n",
            "        (conv1): Conv2d(2016, 192, kernel_size=(1, 1), stride=(1, 1), bias=False)\n",
            "        (norm2): BatchNorm2d(192, eps=1e-05, momentum=0.1, affine=True, track_running_stats=True)\n",
            "        (relu2): ReLU(inplace=True)\n",
            "        (conv2): Conv2d(192, 48, kernel_size=(3, 3), stride=(1, 1), padding=(1, 1), bias=False)\n",
            "      )\n",
            "      (denselayer22): _DenseLayer(\n",
            "        (norm1): BatchNorm2d(2064, eps=1e-05, momentum=0.1, affine=True, track_running_stats=True)\n",
            "        (relu1): ReLU(inplace=True)\n",
            "        (conv1): Conv2d(2064, 192, kernel_size=(1, 1), stride=(1, 1), bias=False)\n",
            "        (norm2): BatchNorm2d(192, eps=1e-05, momentum=0.1, affine=True, track_running_stats=True)\n",
            "        (relu2): ReLU(inplace=True)\n",
            "        (conv2): Conv2d(192, 48, kernel_size=(3, 3), stride=(1, 1), padding=(1, 1), bias=False)\n",
            "      )\n",
            "      (denselayer23): _DenseLayer(\n",
            "        (norm1): BatchNorm2d(2112, eps=1e-05, momentum=0.1, affine=True, track_running_stats=True)\n",
            "        (relu1): ReLU(inplace=True)\n",
            "        (conv1): Conv2d(2112, 192, kernel_size=(1, 1), stride=(1, 1), bias=False)\n",
            "        (norm2): BatchNorm2d(192, eps=1e-05, momentum=0.1, affine=True, track_running_stats=True)\n",
            "        (relu2): ReLU(inplace=True)\n",
            "        (conv2): Conv2d(192, 48, kernel_size=(3, 3), stride=(1, 1), padding=(1, 1), bias=False)\n",
            "      )\n",
            "      (denselayer24): _DenseLayer(\n",
            "        (norm1): BatchNorm2d(2160, eps=1e-05, momentum=0.1, affine=True, track_running_stats=True)\n",
            "        (relu1): ReLU(inplace=True)\n",
            "        (conv1): Conv2d(2160, 192, kernel_size=(1, 1), stride=(1, 1), bias=False)\n",
            "        (norm2): BatchNorm2d(192, eps=1e-05, momentum=0.1, affine=True, track_running_stats=True)\n",
            "        (relu2): ReLU(inplace=True)\n",
            "        (conv2): Conv2d(192, 48, kernel_size=(3, 3), stride=(1, 1), padding=(1, 1), bias=False)\n",
            "      )\n",
            "    )\n",
            "    (norm5): BatchNorm2d(2208, eps=1e-05, momentum=0.1, affine=True, track_running_stats=True)\n",
            "  )\n",
            "  (classifier): Linear(in_features=2208, out_features=10, bias=True)\n",
            ")\n"
          ],
          "name": "stdout"
        }
      ]
    },
    {
      "cell_type": "code",
      "metadata": {
        "id": "V92JAIdS3lh4",
        "colab_type": "code",
        "colab": {}
      },
      "source": [
        "# 損失関数の設定\n",
        "criterion = nn.CrossEntropyLoss()"
      ],
      "execution_count": 0,
      "outputs": []
    },
    {
      "cell_type": "code",
      "metadata": {
        "id": "ax8cdTyv6TQw",
        "colab_type": "code",
        "outputId": "8e62b833-5b17-4321-9e73-fbf4ec7bfd56",
        "colab": {
          "base_uri": "https://localhost:8080/",
          "height": 1000
        }
      },
      "source": [
        "# ファインチューニングで学習させるパラメータを、変数params_to_updateの1～3に格納する\n",
        "#https://qiita.com/koshian2/items/4f91ac5cceb6125fd57e\n",
        "\n",
        "params_to_update_1 = []\n",
        "params_to_update_2 = []\n",
        "params_to_update_3 = []\n",
        "\n",
        "# 再学習するパラメーターを指定する\n",
        "update_param_names_1 = [\"denseblock3\"]\n",
        "update_param_names_2 = [\"denseblock4\"]\n",
        "update_param_names_3 = [\"classifier.weight\", \"classifier.bias\"]\n",
        "\n",
        "# パラメータごとに各リストに格納する\n",
        "for name, param in model.named_parameters():\n",
        "    if update_param_names_1[0] in name:\n",
        "    \n",
        "        param.requires_grad = True\n",
        "        params_to_update_1.append(param)\n",
        "        print(\"params_to_update_1に格納：\", name)\n",
        "\n",
        "    elif update_param_names_2[0] in name:\n",
        "        param.requires_grad = True\n",
        "        params_to_update_2.append(param)\n",
        "        print(\"params_to_update_2に格納：\", name)\n",
        "\n",
        "    elif name in update_param_names_3:\n",
        "        param.requires_grad = True\n",
        "        params_to_update_3.append(param)\n",
        "        print(\"params_to_update_3に格納：\", name)\n",
        "\n",
        "    else:\n",
        "        param.requires_grad = False\n",
        "        print(\"勾配計算なし。学習しない：\", name)\n",
        "  "
      ],
      "execution_count": 15,
      "outputs": [
        {
          "output_type": "stream",
          "text": [
            "勾配計算なし。学習しない： features.conv0.weight\n",
            "勾配計算なし。学習しない： features.norm0.weight\n",
            "勾配計算なし。学習しない： features.norm0.bias\n",
            "勾配計算なし。学習しない： features.denseblock1.denselayer1.norm1.weight\n",
            "勾配計算なし。学習しない： features.denseblock1.denselayer1.norm1.bias\n",
            "勾配計算なし。学習しない： features.denseblock1.denselayer1.conv1.weight\n",
            "勾配計算なし。学習しない： features.denseblock1.denselayer1.norm2.weight\n",
            "勾配計算なし。学習しない： features.denseblock1.denselayer1.norm2.bias\n",
            "勾配計算なし。学習しない： features.denseblock1.denselayer1.conv2.weight\n",
            "勾配計算なし。学習しない： features.denseblock1.denselayer2.norm1.weight\n",
            "勾配計算なし。学習しない： features.denseblock1.denselayer2.norm1.bias\n",
            "勾配計算なし。学習しない： features.denseblock1.denselayer2.conv1.weight\n",
            "勾配計算なし。学習しない： features.denseblock1.denselayer2.norm2.weight\n",
            "勾配計算なし。学習しない： features.denseblock1.denselayer2.norm2.bias\n",
            "勾配計算なし。学習しない： features.denseblock1.denselayer2.conv2.weight\n",
            "勾配計算なし。学習しない： features.denseblock1.denselayer3.norm1.weight\n",
            "勾配計算なし。学習しない： features.denseblock1.denselayer3.norm1.bias\n",
            "勾配計算なし。学習しない： features.denseblock1.denselayer3.conv1.weight\n",
            "勾配計算なし。学習しない： features.denseblock1.denselayer3.norm2.weight\n",
            "勾配計算なし。学習しない： features.denseblock1.denselayer3.norm2.bias\n",
            "勾配計算なし。学習しない： features.denseblock1.denselayer3.conv2.weight\n",
            "勾配計算なし。学習しない： features.denseblock1.denselayer4.norm1.weight\n",
            "勾配計算なし。学習しない： features.denseblock1.denselayer4.norm1.bias\n",
            "勾配計算なし。学習しない： features.denseblock1.denselayer4.conv1.weight\n",
            "勾配計算なし。学習しない： features.denseblock1.denselayer4.norm2.weight\n",
            "勾配計算なし。学習しない： features.denseblock1.denselayer4.norm2.bias\n",
            "勾配計算なし。学習しない： features.denseblock1.denselayer4.conv2.weight\n",
            "勾配計算なし。学習しない： features.denseblock1.denselayer5.norm1.weight\n",
            "勾配計算なし。学習しない： features.denseblock1.denselayer5.norm1.bias\n",
            "勾配計算なし。学習しない： features.denseblock1.denselayer5.conv1.weight\n",
            "勾配計算なし。学習しない： features.denseblock1.denselayer5.norm2.weight\n",
            "勾配計算なし。学習しない： features.denseblock1.denselayer5.norm2.bias\n",
            "勾配計算なし。学習しない： features.denseblock1.denselayer5.conv2.weight\n",
            "勾配計算なし。学習しない： features.denseblock1.denselayer6.norm1.weight\n",
            "勾配計算なし。学習しない： features.denseblock1.denselayer6.norm1.bias\n",
            "勾配計算なし。学習しない： features.denseblock1.denselayer6.conv1.weight\n",
            "勾配計算なし。学習しない： features.denseblock1.denselayer6.norm2.weight\n",
            "勾配計算なし。学習しない： features.denseblock1.denselayer6.norm2.bias\n",
            "勾配計算なし。学習しない： features.denseblock1.denselayer6.conv2.weight\n",
            "勾配計算なし。学習しない： features.transition1.norm.weight\n",
            "勾配計算なし。学習しない： features.transition1.norm.bias\n",
            "勾配計算なし。学習しない： features.transition1.conv.weight\n",
            "勾配計算なし。学習しない： features.denseblock2.denselayer1.norm1.weight\n",
            "勾配計算なし。学習しない： features.denseblock2.denselayer1.norm1.bias\n",
            "勾配計算なし。学習しない： features.denseblock2.denselayer1.conv1.weight\n",
            "勾配計算なし。学習しない： features.denseblock2.denselayer1.norm2.weight\n",
            "勾配計算なし。学習しない： features.denseblock2.denselayer1.norm2.bias\n",
            "勾配計算なし。学習しない： features.denseblock2.denselayer1.conv2.weight\n",
            "勾配計算なし。学習しない： features.denseblock2.denselayer2.norm1.weight\n",
            "勾配計算なし。学習しない： features.denseblock2.denselayer2.norm1.bias\n",
            "勾配計算なし。学習しない： features.denseblock2.denselayer2.conv1.weight\n",
            "勾配計算なし。学習しない： features.denseblock2.denselayer2.norm2.weight\n",
            "勾配計算なし。学習しない： features.denseblock2.denselayer2.norm2.bias\n",
            "勾配計算なし。学習しない： features.denseblock2.denselayer2.conv2.weight\n",
            "勾配計算なし。学習しない： features.denseblock2.denselayer3.norm1.weight\n",
            "勾配計算なし。学習しない： features.denseblock2.denselayer3.norm1.bias\n",
            "勾配計算なし。学習しない： features.denseblock2.denselayer3.conv1.weight\n",
            "勾配計算なし。学習しない： features.denseblock2.denselayer3.norm2.weight\n",
            "勾配計算なし。学習しない： features.denseblock2.denselayer3.norm2.bias\n",
            "勾配計算なし。学習しない： features.denseblock2.denselayer3.conv2.weight\n",
            "勾配計算なし。学習しない： features.denseblock2.denselayer4.norm1.weight\n",
            "勾配計算なし。学習しない： features.denseblock2.denselayer4.norm1.bias\n",
            "勾配計算なし。学習しない： features.denseblock2.denselayer4.conv1.weight\n",
            "勾配計算なし。学習しない： features.denseblock2.denselayer4.norm2.weight\n",
            "勾配計算なし。学習しない： features.denseblock2.denselayer4.norm2.bias\n",
            "勾配計算なし。学習しない： features.denseblock2.denselayer4.conv2.weight\n",
            "勾配計算なし。学習しない： features.denseblock2.denselayer5.norm1.weight\n",
            "勾配計算なし。学習しない： features.denseblock2.denselayer5.norm1.bias\n",
            "勾配計算なし。学習しない： features.denseblock2.denselayer5.conv1.weight\n",
            "勾配計算なし。学習しない： features.denseblock2.denselayer5.norm2.weight\n",
            "勾配計算なし。学習しない： features.denseblock2.denselayer5.norm2.bias\n",
            "勾配計算なし。学習しない： features.denseblock2.denselayer5.conv2.weight\n",
            "勾配計算なし。学習しない： features.denseblock2.denselayer6.norm1.weight\n",
            "勾配計算なし。学習しない： features.denseblock2.denselayer6.norm1.bias\n",
            "勾配計算なし。学習しない： features.denseblock2.denselayer6.conv1.weight\n",
            "勾配計算なし。学習しない： features.denseblock2.denselayer6.norm2.weight\n",
            "勾配計算なし。学習しない： features.denseblock2.denselayer6.norm2.bias\n",
            "勾配計算なし。学習しない： features.denseblock2.denselayer6.conv2.weight\n",
            "勾配計算なし。学習しない： features.denseblock2.denselayer7.norm1.weight\n",
            "勾配計算なし。学習しない： features.denseblock2.denselayer7.norm1.bias\n",
            "勾配計算なし。学習しない： features.denseblock2.denselayer7.conv1.weight\n",
            "勾配計算なし。学習しない： features.denseblock2.denselayer7.norm2.weight\n",
            "勾配計算なし。学習しない： features.denseblock2.denselayer7.norm2.bias\n",
            "勾配計算なし。学習しない： features.denseblock2.denselayer7.conv2.weight\n",
            "勾配計算なし。学習しない： features.denseblock2.denselayer8.norm1.weight\n",
            "勾配計算なし。学習しない： features.denseblock2.denselayer8.norm1.bias\n",
            "勾配計算なし。学習しない： features.denseblock2.denselayer8.conv1.weight\n",
            "勾配計算なし。学習しない： features.denseblock2.denselayer8.norm2.weight\n",
            "勾配計算なし。学習しない： features.denseblock2.denselayer8.norm2.bias\n",
            "勾配計算なし。学習しない： features.denseblock2.denselayer8.conv2.weight\n",
            "勾配計算なし。学習しない： features.denseblock2.denselayer9.norm1.weight\n",
            "勾配計算なし。学習しない： features.denseblock2.denselayer9.norm1.bias\n",
            "勾配計算なし。学習しない： features.denseblock2.denselayer9.conv1.weight\n",
            "勾配計算なし。学習しない： features.denseblock2.denselayer9.norm2.weight\n",
            "勾配計算なし。学習しない： features.denseblock2.denselayer9.norm2.bias\n",
            "勾配計算なし。学習しない： features.denseblock2.denselayer9.conv2.weight\n",
            "勾配計算なし。学習しない： features.denseblock2.denselayer10.norm1.weight\n",
            "勾配計算なし。学習しない： features.denseblock2.denselayer10.norm1.bias\n",
            "勾配計算なし。学習しない： features.denseblock2.denselayer10.conv1.weight\n",
            "勾配計算なし。学習しない： features.denseblock2.denselayer10.norm2.weight\n",
            "勾配計算なし。学習しない： features.denseblock2.denselayer10.norm2.bias\n",
            "勾配計算なし。学習しない： features.denseblock2.denselayer10.conv2.weight\n",
            "勾配計算なし。学習しない： features.denseblock2.denselayer11.norm1.weight\n",
            "勾配計算なし。学習しない： features.denseblock2.denselayer11.norm1.bias\n",
            "勾配計算なし。学習しない： features.denseblock2.denselayer11.conv1.weight\n",
            "勾配計算なし。学習しない： features.denseblock2.denselayer11.norm2.weight\n",
            "勾配計算なし。学習しない： features.denseblock2.denselayer11.norm2.bias\n",
            "勾配計算なし。学習しない： features.denseblock2.denselayer11.conv2.weight\n",
            "勾配計算なし。学習しない： features.denseblock2.denselayer12.norm1.weight\n",
            "勾配計算なし。学習しない： features.denseblock2.denselayer12.norm1.bias\n",
            "勾配計算なし。学習しない： features.denseblock2.denselayer12.conv1.weight\n",
            "勾配計算なし。学習しない： features.denseblock2.denselayer12.norm2.weight\n",
            "勾配計算なし。学習しない： features.denseblock2.denselayer12.norm2.bias\n",
            "勾配計算なし。学習しない： features.denseblock2.denselayer12.conv2.weight\n",
            "勾配計算なし。学習しない： features.transition2.norm.weight\n",
            "勾配計算なし。学習しない： features.transition2.norm.bias\n",
            "勾配計算なし。学習しない： features.transition2.conv.weight\n",
            "params_to_update_1に格納： features.denseblock3.denselayer1.norm1.weight\n",
            "params_to_update_1に格納： features.denseblock3.denselayer1.norm1.bias\n",
            "params_to_update_1に格納： features.denseblock3.denselayer1.conv1.weight\n",
            "params_to_update_1に格納： features.denseblock3.denselayer1.norm2.weight\n",
            "params_to_update_1に格納： features.denseblock3.denselayer1.norm2.bias\n",
            "params_to_update_1に格納： features.denseblock3.denselayer1.conv2.weight\n",
            "params_to_update_1に格納： features.denseblock3.denselayer2.norm1.weight\n",
            "params_to_update_1に格納： features.denseblock3.denselayer2.norm1.bias\n",
            "params_to_update_1に格納： features.denseblock3.denselayer2.conv1.weight\n",
            "params_to_update_1に格納： features.denseblock3.denselayer2.norm2.weight\n",
            "params_to_update_1に格納： features.denseblock3.denselayer2.norm2.bias\n",
            "params_to_update_1に格納： features.denseblock3.denselayer2.conv2.weight\n",
            "params_to_update_1に格納： features.denseblock3.denselayer3.norm1.weight\n",
            "params_to_update_1に格納： features.denseblock3.denselayer3.norm1.bias\n",
            "params_to_update_1に格納： features.denseblock3.denselayer3.conv1.weight\n",
            "params_to_update_1に格納： features.denseblock3.denselayer3.norm2.weight\n",
            "params_to_update_1に格納： features.denseblock3.denselayer3.norm2.bias\n",
            "params_to_update_1に格納： features.denseblock3.denselayer3.conv2.weight\n",
            "params_to_update_1に格納： features.denseblock3.denselayer4.norm1.weight\n",
            "params_to_update_1に格納： features.denseblock3.denselayer4.norm1.bias\n",
            "params_to_update_1に格納： features.denseblock3.denselayer4.conv1.weight\n",
            "params_to_update_1に格納： features.denseblock3.denselayer4.norm2.weight\n",
            "params_to_update_1に格納： features.denseblock3.denselayer4.norm2.bias\n",
            "params_to_update_1に格納： features.denseblock3.denselayer4.conv2.weight\n",
            "params_to_update_1に格納： features.denseblock3.denselayer5.norm1.weight\n",
            "params_to_update_1に格納： features.denseblock3.denselayer5.norm1.bias\n",
            "params_to_update_1に格納： features.denseblock3.denselayer5.conv1.weight\n",
            "params_to_update_1に格納： features.denseblock3.denselayer5.norm2.weight\n",
            "params_to_update_1に格納： features.denseblock3.denselayer5.norm2.bias\n",
            "params_to_update_1に格納： features.denseblock3.denselayer5.conv2.weight\n",
            "params_to_update_1に格納： features.denseblock3.denselayer6.norm1.weight\n",
            "params_to_update_1に格納： features.denseblock3.denselayer6.norm1.bias\n",
            "params_to_update_1に格納： features.denseblock3.denselayer6.conv1.weight\n",
            "params_to_update_1に格納： features.denseblock3.denselayer6.norm2.weight\n",
            "params_to_update_1に格納： features.denseblock3.denselayer6.norm2.bias\n",
            "params_to_update_1に格納： features.denseblock3.denselayer6.conv2.weight\n",
            "params_to_update_1に格納： features.denseblock3.denselayer7.norm1.weight\n",
            "params_to_update_1に格納： features.denseblock3.denselayer7.norm1.bias\n",
            "params_to_update_1に格納： features.denseblock3.denselayer7.conv1.weight\n",
            "params_to_update_1に格納： features.denseblock3.denselayer7.norm2.weight\n",
            "params_to_update_1に格納： features.denseblock3.denselayer7.norm2.bias\n",
            "params_to_update_1に格納： features.denseblock3.denselayer7.conv2.weight\n",
            "params_to_update_1に格納： features.denseblock3.denselayer8.norm1.weight\n",
            "params_to_update_1に格納： features.denseblock3.denselayer8.norm1.bias\n",
            "params_to_update_1に格納： features.denseblock3.denselayer8.conv1.weight\n",
            "params_to_update_1に格納： features.denseblock3.denselayer8.norm2.weight\n",
            "params_to_update_1に格納： features.denseblock3.denselayer8.norm2.bias\n",
            "params_to_update_1に格納： features.denseblock3.denselayer8.conv2.weight\n",
            "params_to_update_1に格納： features.denseblock3.denselayer9.norm1.weight\n",
            "params_to_update_1に格納： features.denseblock3.denselayer9.norm1.bias\n",
            "params_to_update_1に格納： features.denseblock3.denselayer9.conv1.weight\n",
            "params_to_update_1に格納： features.denseblock3.denselayer9.norm2.weight\n",
            "params_to_update_1に格納： features.denseblock3.denselayer9.norm2.bias\n",
            "params_to_update_1に格納： features.denseblock3.denselayer9.conv2.weight\n",
            "params_to_update_1に格納： features.denseblock3.denselayer10.norm1.weight\n",
            "params_to_update_1に格納： features.denseblock3.denselayer10.norm1.bias\n",
            "params_to_update_1に格納： features.denseblock3.denselayer10.conv1.weight\n",
            "params_to_update_1に格納： features.denseblock3.denselayer10.norm2.weight\n",
            "params_to_update_1に格納： features.denseblock3.denselayer10.norm2.bias\n",
            "params_to_update_1に格納： features.denseblock3.denselayer10.conv2.weight\n",
            "params_to_update_1に格納： features.denseblock3.denselayer11.norm1.weight\n",
            "params_to_update_1に格納： features.denseblock3.denselayer11.norm1.bias\n",
            "params_to_update_1に格納： features.denseblock3.denselayer11.conv1.weight\n",
            "params_to_update_1に格納： features.denseblock3.denselayer11.norm2.weight\n",
            "params_to_update_1に格納： features.denseblock3.denselayer11.norm2.bias\n",
            "params_to_update_1に格納： features.denseblock3.denselayer11.conv2.weight\n",
            "params_to_update_1に格納： features.denseblock3.denselayer12.norm1.weight\n",
            "params_to_update_1に格納： features.denseblock3.denselayer12.norm1.bias\n",
            "params_to_update_1に格納： features.denseblock3.denselayer12.conv1.weight\n",
            "params_to_update_1に格納： features.denseblock3.denselayer12.norm2.weight\n",
            "params_to_update_1に格納： features.denseblock3.denselayer12.norm2.bias\n",
            "params_to_update_1に格納： features.denseblock3.denselayer12.conv2.weight\n",
            "params_to_update_1に格納： features.denseblock3.denselayer13.norm1.weight\n",
            "params_to_update_1に格納： features.denseblock3.denselayer13.norm1.bias\n",
            "params_to_update_1に格納： features.denseblock3.denselayer13.conv1.weight\n",
            "params_to_update_1に格納： features.denseblock3.denselayer13.norm2.weight\n",
            "params_to_update_1に格納： features.denseblock3.denselayer13.norm2.bias\n",
            "params_to_update_1に格納： features.denseblock3.denselayer13.conv2.weight\n",
            "params_to_update_1に格納： features.denseblock3.denselayer14.norm1.weight\n",
            "params_to_update_1に格納： features.denseblock3.denselayer14.norm1.bias\n",
            "params_to_update_1に格納： features.denseblock3.denselayer14.conv1.weight\n",
            "params_to_update_1に格納： features.denseblock3.denselayer14.norm2.weight\n",
            "params_to_update_1に格納： features.denseblock3.denselayer14.norm2.bias\n",
            "params_to_update_1に格納： features.denseblock3.denselayer14.conv2.weight\n",
            "params_to_update_1に格納： features.denseblock3.denselayer15.norm1.weight\n",
            "params_to_update_1に格納： features.denseblock3.denselayer15.norm1.bias\n",
            "params_to_update_1に格納： features.denseblock3.denselayer15.conv1.weight\n",
            "params_to_update_1に格納： features.denseblock3.denselayer15.norm2.weight\n",
            "params_to_update_1に格納： features.denseblock3.denselayer15.norm2.bias\n",
            "params_to_update_1に格納： features.denseblock3.denselayer15.conv2.weight\n",
            "params_to_update_1に格納： features.denseblock3.denselayer16.norm1.weight\n",
            "params_to_update_1に格納： features.denseblock3.denselayer16.norm1.bias\n",
            "params_to_update_1に格納： features.denseblock3.denselayer16.conv1.weight\n",
            "params_to_update_1に格納： features.denseblock3.denselayer16.norm2.weight\n",
            "params_to_update_1に格納： features.denseblock3.denselayer16.norm2.bias\n",
            "params_to_update_1に格納： features.denseblock3.denselayer16.conv2.weight\n",
            "params_to_update_1に格納： features.denseblock3.denselayer17.norm1.weight\n",
            "params_to_update_1に格納： features.denseblock3.denselayer17.norm1.bias\n",
            "params_to_update_1に格納： features.denseblock3.denselayer17.conv1.weight\n",
            "params_to_update_1に格納： features.denseblock3.denselayer17.norm2.weight\n",
            "params_to_update_1に格納： features.denseblock3.denselayer17.norm2.bias\n",
            "params_to_update_1に格納： features.denseblock3.denselayer17.conv2.weight\n",
            "params_to_update_1に格納： features.denseblock3.denselayer18.norm1.weight\n",
            "params_to_update_1に格納： features.denseblock3.denselayer18.norm1.bias\n",
            "params_to_update_1に格納： features.denseblock3.denselayer18.conv1.weight\n",
            "params_to_update_1に格納： features.denseblock3.denselayer18.norm2.weight\n",
            "params_to_update_1に格納： features.denseblock3.denselayer18.norm2.bias\n",
            "params_to_update_1に格納： features.denseblock3.denselayer18.conv2.weight\n",
            "params_to_update_1に格納： features.denseblock3.denselayer19.norm1.weight\n",
            "params_to_update_1に格納： features.denseblock3.denselayer19.norm1.bias\n",
            "params_to_update_1に格納： features.denseblock3.denselayer19.conv1.weight\n",
            "params_to_update_1に格納： features.denseblock3.denselayer19.norm2.weight\n",
            "params_to_update_1に格納： features.denseblock3.denselayer19.norm2.bias\n",
            "params_to_update_1に格納： features.denseblock3.denselayer19.conv2.weight\n",
            "params_to_update_1に格納： features.denseblock3.denselayer20.norm1.weight\n",
            "params_to_update_1に格納： features.denseblock3.denselayer20.norm1.bias\n",
            "params_to_update_1に格納： features.denseblock3.denselayer20.conv1.weight\n",
            "params_to_update_1に格納： features.denseblock3.denselayer20.norm2.weight\n",
            "params_to_update_1に格納： features.denseblock3.denselayer20.norm2.bias\n",
            "params_to_update_1に格納： features.denseblock3.denselayer20.conv2.weight\n",
            "params_to_update_1に格納： features.denseblock3.denselayer21.norm1.weight\n",
            "params_to_update_1に格納： features.denseblock3.denselayer21.norm1.bias\n",
            "params_to_update_1に格納： features.denseblock3.denselayer21.conv1.weight\n",
            "params_to_update_1に格納： features.denseblock3.denselayer21.norm2.weight\n",
            "params_to_update_1に格納： features.denseblock3.denselayer21.norm2.bias\n",
            "params_to_update_1に格納： features.denseblock3.denselayer21.conv2.weight\n",
            "params_to_update_1に格納： features.denseblock3.denselayer22.norm1.weight\n",
            "params_to_update_1に格納： features.denseblock3.denselayer22.norm1.bias\n",
            "params_to_update_1に格納： features.denseblock3.denselayer22.conv1.weight\n",
            "params_to_update_1に格納： features.denseblock3.denselayer22.norm2.weight\n",
            "params_to_update_1に格納： features.denseblock3.denselayer22.norm2.bias\n",
            "params_to_update_1に格納： features.denseblock3.denselayer22.conv2.weight\n",
            "params_to_update_1に格納： features.denseblock3.denselayer23.norm1.weight\n",
            "params_to_update_1に格納： features.denseblock3.denselayer23.norm1.bias\n",
            "params_to_update_1に格納： features.denseblock3.denselayer23.conv1.weight\n",
            "params_to_update_1に格納： features.denseblock3.denselayer23.norm2.weight\n",
            "params_to_update_1に格納： features.denseblock3.denselayer23.norm2.bias\n",
            "params_to_update_1に格納： features.denseblock3.denselayer23.conv2.weight\n",
            "params_to_update_1に格納： features.denseblock3.denselayer24.norm1.weight\n",
            "params_to_update_1に格納： features.denseblock3.denselayer24.norm1.bias\n",
            "params_to_update_1に格納： features.denseblock3.denselayer24.conv1.weight\n",
            "params_to_update_1に格納： features.denseblock3.denselayer24.norm2.weight\n",
            "params_to_update_1に格納： features.denseblock3.denselayer24.norm2.bias\n",
            "params_to_update_1に格納： features.denseblock3.denselayer24.conv2.weight\n",
            "params_to_update_1に格納： features.denseblock3.denselayer25.norm1.weight\n",
            "params_to_update_1に格納： features.denseblock3.denselayer25.norm1.bias\n",
            "params_to_update_1に格納： features.denseblock3.denselayer25.conv1.weight\n",
            "params_to_update_1に格納： features.denseblock3.denselayer25.norm2.weight\n",
            "params_to_update_1に格納： features.denseblock3.denselayer25.norm2.bias\n",
            "params_to_update_1に格納： features.denseblock3.denselayer25.conv2.weight\n",
            "params_to_update_1に格納： features.denseblock3.denselayer26.norm1.weight\n",
            "params_to_update_1に格納： features.denseblock3.denselayer26.norm1.bias\n",
            "params_to_update_1に格納： features.denseblock3.denselayer26.conv1.weight\n",
            "params_to_update_1に格納： features.denseblock3.denselayer26.norm2.weight\n",
            "params_to_update_1に格納： features.denseblock3.denselayer26.norm2.bias\n",
            "params_to_update_1に格納： features.denseblock3.denselayer26.conv2.weight\n",
            "params_to_update_1に格納： features.denseblock3.denselayer27.norm1.weight\n",
            "params_to_update_1に格納： features.denseblock3.denselayer27.norm1.bias\n",
            "params_to_update_1に格納： features.denseblock3.denselayer27.conv1.weight\n",
            "params_to_update_1に格納： features.denseblock3.denselayer27.norm2.weight\n",
            "params_to_update_1に格納： features.denseblock3.denselayer27.norm2.bias\n",
            "params_to_update_1に格納： features.denseblock3.denselayer27.conv2.weight\n",
            "params_to_update_1に格納： features.denseblock3.denselayer28.norm1.weight\n",
            "params_to_update_1に格納： features.denseblock3.denselayer28.norm1.bias\n",
            "params_to_update_1に格納： features.denseblock3.denselayer28.conv1.weight\n",
            "params_to_update_1に格納： features.denseblock3.denselayer28.norm2.weight\n",
            "params_to_update_1に格納： features.denseblock3.denselayer28.norm2.bias\n",
            "params_to_update_1に格納： features.denseblock3.denselayer28.conv2.weight\n",
            "params_to_update_1に格納： features.denseblock3.denselayer29.norm1.weight\n",
            "params_to_update_1に格納： features.denseblock3.denselayer29.norm1.bias\n",
            "params_to_update_1に格納： features.denseblock3.denselayer29.conv1.weight\n",
            "params_to_update_1に格納： features.denseblock3.denselayer29.norm2.weight\n",
            "params_to_update_1に格納： features.denseblock3.denselayer29.norm2.bias\n",
            "params_to_update_1に格納： features.denseblock3.denselayer29.conv2.weight\n",
            "params_to_update_1に格納： features.denseblock3.denselayer30.norm1.weight\n",
            "params_to_update_1に格納： features.denseblock3.denselayer30.norm1.bias\n",
            "params_to_update_1に格納： features.denseblock3.denselayer30.conv1.weight\n",
            "params_to_update_1に格納： features.denseblock3.denselayer30.norm2.weight\n",
            "params_to_update_1に格納： features.denseblock3.denselayer30.norm2.bias\n",
            "params_to_update_1に格納： features.denseblock3.denselayer30.conv2.weight\n",
            "params_to_update_1に格納： features.denseblock3.denselayer31.norm1.weight\n",
            "params_to_update_1に格納： features.denseblock3.denselayer31.norm1.bias\n",
            "params_to_update_1に格納： features.denseblock3.denselayer31.conv1.weight\n",
            "params_to_update_1に格納： features.denseblock3.denselayer31.norm2.weight\n",
            "params_to_update_1に格納： features.denseblock3.denselayer31.norm2.bias\n",
            "params_to_update_1に格納： features.denseblock3.denselayer31.conv2.weight\n",
            "params_to_update_1に格納： features.denseblock3.denselayer32.norm1.weight\n",
            "params_to_update_1に格納： features.denseblock3.denselayer32.norm1.bias\n",
            "params_to_update_1に格納： features.denseblock3.denselayer32.conv1.weight\n",
            "params_to_update_1に格納： features.denseblock3.denselayer32.norm2.weight\n",
            "params_to_update_1に格納： features.denseblock3.denselayer32.norm2.bias\n",
            "params_to_update_1に格納： features.denseblock3.denselayer32.conv2.weight\n",
            "params_to_update_1に格納： features.denseblock3.denselayer33.norm1.weight\n",
            "params_to_update_1に格納： features.denseblock3.denselayer33.norm1.bias\n",
            "params_to_update_1に格納： features.denseblock3.denselayer33.conv1.weight\n",
            "params_to_update_1に格納： features.denseblock3.denselayer33.norm2.weight\n",
            "params_to_update_1に格納： features.denseblock3.denselayer33.norm2.bias\n",
            "params_to_update_1に格納： features.denseblock3.denselayer33.conv2.weight\n",
            "params_to_update_1に格納： features.denseblock3.denselayer34.norm1.weight\n",
            "params_to_update_1に格納： features.denseblock3.denselayer34.norm1.bias\n",
            "params_to_update_1に格納： features.denseblock3.denselayer34.conv1.weight\n",
            "params_to_update_1に格納： features.denseblock3.denselayer34.norm2.weight\n",
            "params_to_update_1に格納： features.denseblock3.denselayer34.norm2.bias\n",
            "params_to_update_1に格納： features.denseblock3.denselayer34.conv2.weight\n",
            "params_to_update_1に格納： features.denseblock3.denselayer35.norm1.weight\n",
            "params_to_update_1に格納： features.denseblock3.denselayer35.norm1.bias\n",
            "params_to_update_1に格納： features.denseblock3.denselayer35.conv1.weight\n",
            "params_to_update_1に格納： features.denseblock3.denselayer35.norm2.weight\n",
            "params_to_update_1に格納： features.denseblock3.denselayer35.norm2.bias\n",
            "params_to_update_1に格納： features.denseblock3.denselayer35.conv2.weight\n",
            "params_to_update_1に格納： features.denseblock3.denselayer36.norm1.weight\n",
            "params_to_update_1に格納： features.denseblock3.denselayer36.norm1.bias\n",
            "params_to_update_1に格納： features.denseblock3.denselayer36.conv1.weight\n",
            "params_to_update_1に格納： features.denseblock3.denselayer36.norm2.weight\n",
            "params_to_update_1に格納： features.denseblock3.denselayer36.norm2.bias\n",
            "params_to_update_1に格納： features.denseblock3.denselayer36.conv2.weight\n",
            "勾配計算なし。学習しない： features.transition3.norm.weight\n",
            "勾配計算なし。学習しない： features.transition3.norm.bias\n",
            "勾配計算なし。学習しない： features.transition3.conv.weight\n",
            "params_to_update_2に格納： features.denseblock4.denselayer1.norm1.weight\n",
            "params_to_update_2に格納： features.denseblock4.denselayer1.norm1.bias\n",
            "params_to_update_2に格納： features.denseblock4.denselayer1.conv1.weight\n",
            "params_to_update_2に格納： features.denseblock4.denselayer1.norm2.weight\n",
            "params_to_update_2に格納： features.denseblock4.denselayer1.norm2.bias\n",
            "params_to_update_2に格納： features.denseblock4.denselayer1.conv2.weight\n",
            "params_to_update_2に格納： features.denseblock4.denselayer2.norm1.weight\n",
            "params_to_update_2に格納： features.denseblock4.denselayer2.norm1.bias\n",
            "params_to_update_2に格納： features.denseblock4.denselayer2.conv1.weight\n",
            "params_to_update_2に格納： features.denseblock4.denselayer2.norm2.weight\n",
            "params_to_update_2に格納： features.denseblock4.denselayer2.norm2.bias\n",
            "params_to_update_2に格納： features.denseblock4.denselayer2.conv2.weight\n",
            "params_to_update_2に格納： features.denseblock4.denselayer3.norm1.weight\n",
            "params_to_update_2に格納： features.denseblock4.denselayer3.norm1.bias\n",
            "params_to_update_2に格納： features.denseblock4.denselayer3.conv1.weight\n",
            "params_to_update_2に格納： features.denseblock4.denselayer3.norm2.weight\n",
            "params_to_update_2に格納： features.denseblock4.denselayer3.norm2.bias\n",
            "params_to_update_2に格納： features.denseblock4.denselayer3.conv2.weight\n",
            "params_to_update_2に格納： features.denseblock4.denselayer4.norm1.weight\n",
            "params_to_update_2に格納： features.denseblock4.denselayer4.norm1.bias\n",
            "params_to_update_2に格納： features.denseblock4.denselayer4.conv1.weight\n",
            "params_to_update_2に格納： features.denseblock4.denselayer4.norm2.weight\n",
            "params_to_update_2に格納： features.denseblock4.denselayer4.norm2.bias\n",
            "params_to_update_2に格納： features.denseblock4.denselayer4.conv2.weight\n",
            "params_to_update_2に格納： features.denseblock4.denselayer5.norm1.weight\n",
            "params_to_update_2に格納： features.denseblock4.denselayer5.norm1.bias\n",
            "params_to_update_2に格納： features.denseblock4.denselayer5.conv1.weight\n",
            "params_to_update_2に格納： features.denseblock4.denselayer5.norm2.weight\n",
            "params_to_update_2に格納： features.denseblock4.denselayer5.norm2.bias\n",
            "params_to_update_2に格納： features.denseblock4.denselayer5.conv2.weight\n",
            "params_to_update_2に格納： features.denseblock4.denselayer6.norm1.weight\n",
            "params_to_update_2に格納： features.denseblock4.denselayer6.norm1.bias\n",
            "params_to_update_2に格納： features.denseblock4.denselayer6.conv1.weight\n",
            "params_to_update_2に格納： features.denseblock4.denselayer6.norm2.weight\n",
            "params_to_update_2に格納： features.denseblock4.denselayer6.norm2.bias\n",
            "params_to_update_2に格納： features.denseblock4.denselayer6.conv2.weight\n",
            "params_to_update_2に格納： features.denseblock4.denselayer7.norm1.weight\n",
            "params_to_update_2に格納： features.denseblock4.denselayer7.norm1.bias\n",
            "params_to_update_2に格納： features.denseblock4.denselayer7.conv1.weight\n",
            "params_to_update_2に格納： features.denseblock4.denselayer7.norm2.weight\n",
            "params_to_update_2に格納： features.denseblock4.denselayer7.norm2.bias\n",
            "params_to_update_2に格納： features.denseblock4.denselayer7.conv2.weight\n",
            "params_to_update_2に格納： features.denseblock4.denselayer8.norm1.weight\n",
            "params_to_update_2に格納： features.denseblock4.denselayer8.norm1.bias\n",
            "params_to_update_2に格納： features.denseblock4.denselayer8.conv1.weight\n",
            "params_to_update_2に格納： features.denseblock4.denselayer8.norm2.weight\n",
            "params_to_update_2に格納： features.denseblock4.denselayer8.norm2.bias\n",
            "params_to_update_2に格納： features.denseblock4.denselayer8.conv2.weight\n",
            "params_to_update_2に格納： features.denseblock4.denselayer9.norm1.weight\n",
            "params_to_update_2に格納： features.denseblock4.denselayer9.norm1.bias\n",
            "params_to_update_2に格納： features.denseblock4.denselayer9.conv1.weight\n",
            "params_to_update_2に格納： features.denseblock4.denselayer9.norm2.weight\n",
            "params_to_update_2に格納： features.denseblock4.denselayer9.norm2.bias\n",
            "params_to_update_2に格納： features.denseblock4.denselayer9.conv2.weight\n",
            "params_to_update_2に格納： features.denseblock4.denselayer10.norm1.weight\n",
            "params_to_update_2に格納： features.denseblock4.denselayer10.norm1.bias\n",
            "params_to_update_2に格納： features.denseblock4.denselayer10.conv1.weight\n",
            "params_to_update_2に格納： features.denseblock4.denselayer10.norm2.weight\n",
            "params_to_update_2に格納： features.denseblock4.denselayer10.norm2.bias\n",
            "params_to_update_2に格納： features.denseblock4.denselayer10.conv2.weight\n",
            "params_to_update_2に格納： features.denseblock4.denselayer11.norm1.weight\n",
            "params_to_update_2に格納： features.denseblock4.denselayer11.norm1.bias\n",
            "params_to_update_2に格納： features.denseblock4.denselayer11.conv1.weight\n",
            "params_to_update_2に格納： features.denseblock4.denselayer11.norm2.weight\n",
            "params_to_update_2に格納： features.denseblock4.denselayer11.norm2.bias\n",
            "params_to_update_2に格納： features.denseblock4.denselayer11.conv2.weight\n",
            "params_to_update_2に格納： features.denseblock4.denselayer12.norm1.weight\n",
            "params_to_update_2に格納： features.denseblock4.denselayer12.norm1.bias\n",
            "params_to_update_2に格納： features.denseblock4.denselayer12.conv1.weight\n",
            "params_to_update_2に格納： features.denseblock4.denselayer12.norm2.weight\n",
            "params_to_update_2に格納： features.denseblock4.denselayer12.norm2.bias\n",
            "params_to_update_2に格納： features.denseblock4.denselayer12.conv2.weight\n",
            "params_to_update_2に格納： features.denseblock4.denselayer13.norm1.weight\n",
            "params_to_update_2に格納： features.denseblock4.denselayer13.norm1.bias\n",
            "params_to_update_2に格納： features.denseblock4.denselayer13.conv1.weight\n",
            "params_to_update_2に格納： features.denseblock4.denselayer13.norm2.weight\n",
            "params_to_update_2に格納： features.denseblock4.denselayer13.norm2.bias\n",
            "params_to_update_2に格納： features.denseblock4.denselayer13.conv2.weight\n",
            "params_to_update_2に格納： features.denseblock4.denselayer14.norm1.weight\n",
            "params_to_update_2に格納： features.denseblock4.denselayer14.norm1.bias\n",
            "params_to_update_2に格納： features.denseblock4.denselayer14.conv1.weight\n",
            "params_to_update_2に格納： features.denseblock4.denselayer14.norm2.weight\n",
            "params_to_update_2に格納： features.denseblock4.denselayer14.norm2.bias\n",
            "params_to_update_2に格納： features.denseblock4.denselayer14.conv2.weight\n",
            "params_to_update_2に格納： features.denseblock4.denselayer15.norm1.weight\n",
            "params_to_update_2に格納： features.denseblock4.denselayer15.norm1.bias\n",
            "params_to_update_2に格納： features.denseblock4.denselayer15.conv1.weight\n",
            "params_to_update_2に格納： features.denseblock4.denselayer15.norm2.weight\n",
            "params_to_update_2に格納： features.denseblock4.denselayer15.norm2.bias\n",
            "params_to_update_2に格納： features.denseblock4.denselayer15.conv2.weight\n",
            "params_to_update_2に格納： features.denseblock4.denselayer16.norm1.weight\n",
            "params_to_update_2に格納： features.denseblock4.denselayer16.norm1.bias\n",
            "params_to_update_2に格納： features.denseblock4.denselayer16.conv1.weight\n",
            "params_to_update_2に格納： features.denseblock4.denselayer16.norm2.weight\n",
            "params_to_update_2に格納： features.denseblock4.denselayer16.norm2.bias\n",
            "params_to_update_2に格納： features.denseblock4.denselayer16.conv2.weight\n",
            "params_to_update_2に格納： features.denseblock4.denselayer17.norm1.weight\n",
            "params_to_update_2に格納： features.denseblock4.denselayer17.norm1.bias\n",
            "params_to_update_2に格納： features.denseblock4.denselayer17.conv1.weight\n",
            "params_to_update_2に格納： features.denseblock4.denselayer17.norm2.weight\n",
            "params_to_update_2に格納： features.denseblock4.denselayer17.norm2.bias\n",
            "params_to_update_2に格納： features.denseblock4.denselayer17.conv2.weight\n",
            "params_to_update_2に格納： features.denseblock4.denselayer18.norm1.weight\n",
            "params_to_update_2に格納： features.denseblock4.denselayer18.norm1.bias\n",
            "params_to_update_2に格納： features.denseblock4.denselayer18.conv1.weight\n",
            "params_to_update_2に格納： features.denseblock4.denselayer18.norm2.weight\n",
            "params_to_update_2に格納： features.denseblock4.denselayer18.norm2.bias\n",
            "params_to_update_2に格納： features.denseblock4.denselayer18.conv2.weight\n",
            "params_to_update_2に格納： features.denseblock4.denselayer19.norm1.weight\n",
            "params_to_update_2に格納： features.denseblock4.denselayer19.norm1.bias\n",
            "params_to_update_2に格納： features.denseblock4.denselayer19.conv1.weight\n",
            "params_to_update_2に格納： features.denseblock4.denselayer19.norm2.weight\n",
            "params_to_update_2に格納： features.denseblock4.denselayer19.norm2.bias\n",
            "params_to_update_2に格納： features.denseblock4.denselayer19.conv2.weight\n",
            "params_to_update_2に格納： features.denseblock4.denselayer20.norm1.weight\n",
            "params_to_update_2に格納： features.denseblock4.denselayer20.norm1.bias\n",
            "params_to_update_2に格納： features.denseblock4.denselayer20.conv1.weight\n",
            "params_to_update_2に格納： features.denseblock4.denselayer20.norm2.weight\n",
            "params_to_update_2に格納： features.denseblock4.denselayer20.norm2.bias\n",
            "params_to_update_2に格納： features.denseblock4.denselayer20.conv2.weight\n",
            "params_to_update_2に格納： features.denseblock4.denselayer21.norm1.weight\n",
            "params_to_update_2に格納： features.denseblock4.denselayer21.norm1.bias\n",
            "params_to_update_2に格納： features.denseblock4.denselayer21.conv1.weight\n",
            "params_to_update_2に格納： features.denseblock4.denselayer21.norm2.weight\n",
            "params_to_update_2に格納： features.denseblock4.denselayer21.norm2.bias\n",
            "params_to_update_2に格納： features.denseblock4.denselayer21.conv2.weight\n",
            "params_to_update_2に格納： features.denseblock4.denselayer22.norm1.weight\n",
            "params_to_update_2に格納： features.denseblock4.denselayer22.norm1.bias\n",
            "params_to_update_2に格納： features.denseblock4.denselayer22.conv1.weight\n",
            "params_to_update_2に格納： features.denseblock4.denselayer22.norm2.weight\n",
            "params_to_update_2に格納： features.denseblock4.denselayer22.norm2.bias\n",
            "params_to_update_2に格納： features.denseblock4.denselayer22.conv2.weight\n",
            "params_to_update_2に格納： features.denseblock4.denselayer23.norm1.weight\n",
            "params_to_update_2に格納： features.denseblock4.denselayer23.norm1.bias\n",
            "params_to_update_2に格納： features.denseblock4.denselayer23.conv1.weight\n",
            "params_to_update_2に格納： features.denseblock4.denselayer23.norm2.weight\n",
            "params_to_update_2に格納： features.denseblock4.denselayer23.norm2.bias\n",
            "params_to_update_2に格納： features.denseblock4.denselayer23.conv2.weight\n",
            "params_to_update_2に格納： features.denseblock4.denselayer24.norm1.weight\n",
            "params_to_update_2に格納： features.denseblock4.denselayer24.norm1.bias\n",
            "params_to_update_2に格納： features.denseblock4.denselayer24.conv1.weight\n",
            "params_to_update_2に格納： features.denseblock4.denselayer24.norm2.weight\n",
            "params_to_update_2に格納： features.denseblock4.denselayer24.norm2.bias\n",
            "params_to_update_2に格納： features.denseblock4.denselayer24.conv2.weight\n",
            "勾配計算なし。学習しない： features.norm5.weight\n",
            "勾配計算なし。学習しない： features.norm5.bias\n",
            "params_to_update_3に格納： classifier.weight\n",
            "params_to_update_3に格納： classifier.bias\n"
          ],
          "name": "stdout"
        }
      ]
    },
    {
      "cell_type": "code",
      "metadata": {
        "id": "0MyUwuyv65cn",
        "colab_type": "code",
        "colab": {}
      },
      "source": [
        "#EarlyStopipingを導入するために、pytorchtools.pyをアップする\n",
        "from pytorchtools import EarlyStopping"
      ],
      "execution_count": 0,
      "outputs": []
    },
    {
      "cell_type": "code",
      "metadata": {
        "id": "cWW-VP7V7Y1W",
        "colab_type": "code",
        "colab": {}
      },
      "source": [
        "# 最適化手法の設定\n",
        "optimizer = optim.SGD([\n",
        "    {'params': params_to_update_1, 'lr': 1e-4},\n",
        "    {'params': params_to_update_2, 'lr': 1e-4},\n",
        "    {'params': params_to_update_3, 'lr': 1e-3}\n",
        "], momentum=0.9)"
      ],
      "execution_count": 0,
      "outputs": []
    },
    {
      "cell_type": "code",
      "metadata": {
        "id": "Iq5KMtcr7dWc",
        "colab_type": "code",
        "outputId": "d7ddf3d6-bdc9-48a8-c8c0-6d8b6eb404ee",
        "colab": {
          "base_uri": "https://localhost:8080/",
          "height": 1000
        }
      },
      "source": [
        "epochs = 150\n",
        "running_loss_history = []\n",
        "running_corrects_history = []\n",
        "val_running_loss_history = []\n",
        "val_running_corrects_history = []\n",
        "early_stopping = EarlyStopping(patience=3, verbose=True)  # early stopping patience; how long to wait after last time validation loss improved.\n",
        "\n",
        "for e in range(epochs):\n",
        "  \n",
        "  running_loss = 0.0\n",
        "  running_corrects = 0.0\n",
        "  val_running_loss = 0.0\n",
        "  val_running_corrects = 0.0\n",
        "\n",
        "  model.train() #学習モード\n",
        "  \n",
        "  for inputs, labels in tqdm(training_loader):\n",
        "#     DataLoaderのバッチサイズごとにforで取り出して計算\n",
        "#     ここのforの処理が終わると1エポック\n",
        "    inputs = inputs.to(device)\n",
        "    labels = labels.to(device)\n",
        "    outputs = model(inputs)\n",
        "    loss = criterion(outputs, labels)\n",
        "    \n",
        "#     一旦パラメーターの勾配をゼロにして\n",
        "    optimizer.zero_grad()\n",
        "#     勾配の計算\n",
        "    loss.backward()\n",
        "#     学習\n",
        "    optimizer.step()\n",
        "    \n",
        "#     分類わけなので、もっとも数字が大きいものをpredictとする\n",
        "#     バッチ処理しているので2次元目で比較\n",
        "    _, preds = torch.max(outputs, 1)\n",
        "    running_loss += loss.item()\n",
        "#     ラベルと合っているものを足し合わせてaccuracy計算\n",
        "    running_corrects += torch.sum(preds == labels.data)\n",
        "  \n",
        "  model.eval() #検証モード\n",
        "#     pytorchでは勾配の計算の高速化のため、パラメーターを保持しているがテスト時はいらないので止める\n",
        "  with torch.no_grad():\n",
        "    for val_inputs, val_labels in tqdm(validation_loader):\n",
        "      val_inputs = val_inputs.to(device)\n",
        "      val_labels = val_labels.to(device)\n",
        "      val_outputs = model(val_inputs)\n",
        "      val_loss = criterion(val_outputs, val_labels)\n",
        "      \n",
        "      _, val_preds = torch.max(val_outputs, 1)\n",
        "      val_running_loss += val_loss.item()\n",
        "      val_running_corrects += torch.sum(val_preds == val_labels.data)\n",
        "      \n",
        "#   学習過程を記録\n",
        "  epoch_loss = running_loss/len(training_loader.dataset)\n",
        "  epoch_acc = running_corrects.float()/ len(training_loader.dataset)\n",
        "  running_loss_history.append(epoch_loss)\n",
        "  running_corrects_history.append(epoch_acc)\n",
        "  \n",
        "  val_epoch_loss = val_running_loss/len(validation_loader.dataset)\n",
        "#     print('len-validation_loader :'+str(len(validation_loader)))\n",
        "#     print('len-validation_loader :'+str(len(validation_loader.dataset)))\n",
        "  val_epoch_acc = val_running_corrects.float()/len(validation_loader.dataset)\n",
        "  val_running_loss_history.append(val_epoch_loss)\n",
        "  val_running_corrects_history.append(val_epoch_acc)\n",
        "  \n",
        "  print('epoch *', (e+1))\n",
        "  print('training loss: {:.4f}, training acc {:.4f}'.format(epoch_loss, epoch_acc.item()))\n",
        "  print('validation loss: {:.4f}, validation acc{:.4f}'.format(val_epoch_loss,val_epoch_acc.item()))\n",
        "\n",
        "  early_stopping(val_epoch_loss, model)\n",
        "        \n",
        "  if early_stopping.early_stop:\n",
        "      print(\"Early stopping\")\n",
        "      break\n",
        "#学習済みモデルの保存\n",
        "#save_path = './weights.pth'\n",
        "#torch.save(model.state_dict(), save_path)"
      ],
      "execution_count": 20,
      "outputs": [
        {
          "output_type": "stream",
          "text": [
            "100%|██████████| 157/157 [00:50<00:00,  3.12it/s]\n",
            "100%|██████████| 250/250 [00:50<00:00,  4.91it/s]\n"
          ],
          "name": "stderr"
        },
        {
          "output_type": "stream",
          "text": [
            "epoch * 1\n",
            "training loss: 0.0318, training acc 0.7468\n",
            "validation loss: 0.0142, validation acc0.8823\n",
            "Validation loss decreased (inf --> 0.014168).  Saving model ...\n"
          ],
          "name": "stdout"
        },
        {
          "output_type": "stream",
          "text": [
            "100%|██████████| 157/157 [00:50<00:00,  3.13it/s]\n",
            "100%|██████████| 250/250 [00:51<00:00,  4.88it/s]\n"
          ],
          "name": "stderr"
        },
        {
          "output_type": "stream",
          "text": [
            "epoch * 2\n",
            "training loss: 0.0131, training acc 0.8814\n",
            "validation loss: 0.0103, validation acc0.8989\n",
            "Validation loss decreased (0.014168 --> 0.010298).  Saving model ...\n"
          ],
          "name": "stdout"
        },
        {
          "output_type": "stream",
          "text": [
            "100%|██████████| 157/157 [00:50<00:00,  3.13it/s]\n",
            "100%|██████████| 250/250 [00:51<00:00,  4.90it/s]\n"
          ],
          "name": "stderr"
        },
        {
          "output_type": "stream",
          "text": [
            "epoch * 3\n",
            "training loss: 0.0115, training acc 0.8872\n",
            "validation loss: 0.0092, validation acc0.9089\n",
            "Validation loss decreased (0.010298 --> 0.009236).  Saving model ...\n"
          ],
          "name": "stdout"
        },
        {
          "output_type": "stream",
          "text": [
            "100%|██████████| 157/157 [00:50<00:00,  3.13it/s]\n",
            "100%|██████████| 250/250 [00:50<00:00,  4.90it/s]\n"
          ],
          "name": "stderr"
        },
        {
          "output_type": "stream",
          "text": [
            "epoch * 4\n",
            "training loss: 0.0098, training acc 0.9022\n",
            "validation loss: 0.0088, validation acc0.9085\n",
            "Validation loss decreased (0.009236 --> 0.008805).  Saving model ...\n"
          ],
          "name": "stdout"
        },
        {
          "output_type": "stream",
          "text": [
            "100%|██████████| 157/157 [00:50<00:00,  3.13it/s]\n",
            "100%|██████████| 250/250 [00:50<00:00,  4.91it/s]\n"
          ],
          "name": "stderr"
        },
        {
          "output_type": "stream",
          "text": [
            "epoch * 5\n",
            "training loss: 0.0097, training acc 0.9032\n",
            "validation loss: 0.0087, validation acc0.9069\n",
            "Validation loss decreased (0.008805 --> 0.008748).  Saving model ...\n"
          ],
          "name": "stdout"
        },
        {
          "output_type": "stream",
          "text": [
            "100%|██████████| 157/157 [00:50<00:00,  3.13it/s]\n",
            "100%|██████████| 250/250 [00:50<00:00,  4.93it/s]\n"
          ],
          "name": "stderr"
        },
        {
          "output_type": "stream",
          "text": [
            "epoch * 6\n",
            "training loss: 0.0092, training acc 0.9022\n",
            "validation loss: 0.0082, validation acc0.9129\n",
            "Validation loss decreased (0.008748 --> 0.008177).  Saving model ...\n"
          ],
          "name": "stdout"
        },
        {
          "output_type": "stream",
          "text": [
            "100%|██████████| 157/157 [00:50<00:00,  3.14it/s]\n",
            "100%|██████████| 250/250 [00:50<00:00,  4.92it/s]\n"
          ],
          "name": "stderr"
        },
        {
          "output_type": "stream",
          "text": [
            "epoch * 7\n",
            "training loss: 0.0086, training acc 0.9094\n",
            "validation loss: 0.0077, validation acc0.9186\n",
            "Validation loss decreased (0.008177 --> 0.007678).  Saving model ...\n"
          ],
          "name": "stdout"
        },
        {
          "output_type": "stream",
          "text": [
            "100%|██████████| 157/157 [00:50<00:00,  3.14it/s]\n",
            "100%|██████████| 250/250 [00:50<00:00,  4.93it/s]\n",
            "  0%|          | 0/157 [00:00<?, ?it/s]"
          ],
          "name": "stderr"
        },
        {
          "output_type": "stream",
          "text": [
            "epoch * 8\n",
            "training loss: 0.0080, training acc 0.9166\n",
            "validation loss: 0.0078, validation acc0.9144\n",
            "EarlyStopping counter: 1 out of 3\n"
          ],
          "name": "stdout"
        },
        {
          "output_type": "stream",
          "text": [
            "100%|██████████| 157/157 [00:50<00:00,  3.14it/s]\n",
            "100%|██████████| 250/250 [00:50<00:00,  4.92it/s]\n"
          ],
          "name": "stderr"
        },
        {
          "output_type": "stream",
          "text": [
            "epoch * 9\n",
            "training loss: 0.0081, training acc 0.9102\n",
            "validation loss: 0.0076, validation acc0.9181\n",
            "Validation loss decreased (0.007678 --> 0.007632).  Saving model ...\n"
          ],
          "name": "stdout"
        },
        {
          "output_type": "stream",
          "text": [
            "100%|██████████| 157/157 [00:50<00:00,  3.14it/s]\n",
            "100%|██████████| 250/250 [00:50<00:00,  4.92it/s]\n"
          ],
          "name": "stderr"
        },
        {
          "output_type": "stream",
          "text": [
            "epoch * 10\n",
            "training loss: 0.0076, training acc 0.9204\n",
            "validation loss: 0.0073, validation acc0.9195\n",
            "Validation loss decreased (0.007632 --> 0.007322).  Saving model ...\n"
          ],
          "name": "stdout"
        },
        {
          "output_type": "stream",
          "text": [
            "100%|██████████| 157/157 [00:50<00:00,  3.13it/s]\n",
            "100%|██████████| 250/250 [00:50<00:00,  4.91it/s]\n"
          ],
          "name": "stderr"
        },
        {
          "output_type": "stream",
          "text": [
            "epoch * 11\n",
            "training loss: 0.0077, training acc 0.9202\n",
            "validation loss: 0.0072, validation acc0.9209\n",
            "Validation loss decreased (0.007322 --> 0.007225).  Saving model ...\n"
          ],
          "name": "stdout"
        },
        {
          "output_type": "stream",
          "text": [
            "100%|██████████| 157/157 [00:50<00:00,  3.13it/s]\n",
            "100%|██████████| 250/250 [00:50<00:00,  4.91it/s]\n"
          ],
          "name": "stderr"
        },
        {
          "output_type": "stream",
          "text": [
            "epoch * 12\n",
            "training loss: 0.0075, training acc 0.9222\n",
            "validation loss: 0.0071, validation acc0.9205\n",
            "Validation loss decreased (0.007225 --> 0.007113).  Saving model ...\n"
          ],
          "name": "stdout"
        },
        {
          "output_type": "stream",
          "text": [
            "100%|██████████| 157/157 [00:50<00:00,  3.14it/s]\n",
            "100%|██████████| 250/250 [00:50<00:00,  4.92it/s]\n"
          ],
          "name": "stderr"
        },
        {
          "output_type": "stream",
          "text": [
            "epoch * 13\n",
            "training loss: 0.0073, training acc 0.9180\n",
            "validation loss: 0.0071, validation acc0.9216\n",
            "Validation loss decreased (0.007113 --> 0.007093).  Saving model ...\n"
          ],
          "name": "stdout"
        },
        {
          "output_type": "stream",
          "text": [
            "100%|██████████| 157/157 [00:49<00:00,  3.15it/s]\n",
            "100%|██████████| 250/250 [00:50<00:00,  4.93it/s]\n"
          ],
          "name": "stderr"
        },
        {
          "output_type": "stream",
          "text": [
            "epoch * 14\n",
            "training loss: 0.0068, training acc 0.9260\n",
            "validation loss: 0.0068, validation acc0.9249\n",
            "Validation loss decreased (0.007093 --> 0.006838).  Saving model ...\n"
          ],
          "name": "stdout"
        },
        {
          "output_type": "stream",
          "text": [
            "100%|██████████| 157/157 [00:49<00:00,  3.14it/s]\n",
            "100%|██████████| 250/250 [00:50<00:00,  4.93it/s]\n",
            "  0%|          | 0/157 [00:00<?, ?it/s]"
          ],
          "name": "stderr"
        },
        {
          "output_type": "stream",
          "text": [
            "epoch * 15\n",
            "training loss: 0.0067, training acc 0.9298\n",
            "validation loss: 0.0070, validation acc0.9229\n",
            "EarlyStopping counter: 1 out of 3\n"
          ],
          "name": "stdout"
        },
        {
          "output_type": "stream",
          "text": [
            "100%|██████████| 157/157 [00:49<00:00,  3.14it/s]\n",
            "100%|██████████| 250/250 [00:50<00:00,  4.95it/s]\n"
          ],
          "name": "stderr"
        },
        {
          "output_type": "stream",
          "text": [
            "epoch * 16\n",
            "training loss: 0.0069, training acc 0.9278\n",
            "validation loss: 0.0068, validation acc0.9254\n",
            "Validation loss decreased (0.006838 --> 0.006792).  Saving model ...\n"
          ],
          "name": "stdout"
        },
        {
          "output_type": "stream",
          "text": [
            "100%|██████████| 157/157 [00:49<00:00,  3.14it/s]\n",
            "100%|██████████| 250/250 [00:50<00:00,  4.93it/s]\n",
            "  0%|          | 0/157 [00:00<?, ?it/s]"
          ],
          "name": "stderr"
        },
        {
          "output_type": "stream",
          "text": [
            "epoch * 17\n",
            "training loss: 0.0066, training acc 0.9300\n",
            "validation loss: 0.0071, validation acc0.9218\n",
            "EarlyStopping counter: 1 out of 3\n"
          ],
          "name": "stdout"
        },
        {
          "output_type": "stream",
          "text": [
            "100%|██████████| 157/157 [00:49<00:00,  3.15it/s]\n",
            "100%|██████████| 250/250 [00:50<00:00,  4.94it/s]\n"
          ],
          "name": "stderr"
        },
        {
          "output_type": "stream",
          "text": [
            "epoch * 18\n",
            "training loss: 0.0061, training acc 0.9354\n",
            "validation loss: 0.0065, validation acc0.9273\n",
            "Validation loss decreased (0.006792 --> 0.006495).  Saving model ...\n"
          ],
          "name": "stdout"
        },
        {
          "output_type": "stream",
          "text": [
            "100%|██████████| 157/157 [00:49<00:00,  3.15it/s]\n",
            "100%|██████████| 250/250 [00:50<00:00,  4.93it/s]\n",
            "  0%|          | 0/157 [00:00<?, ?it/s]"
          ],
          "name": "stderr"
        },
        {
          "output_type": "stream",
          "text": [
            "epoch * 19\n",
            "training loss: 0.0060, training acc 0.9356\n",
            "validation loss: 0.0071, validation acc0.9233\n",
            "EarlyStopping counter: 1 out of 3\n"
          ],
          "name": "stdout"
        },
        {
          "output_type": "stream",
          "text": [
            "100%|██████████| 157/157 [00:49<00:00,  3.14it/s]\n",
            "100%|██████████| 250/250 [00:50<00:00,  4.93it/s]\n",
            "  0%|          | 0/157 [00:00<?, ?it/s]"
          ],
          "name": "stderr"
        },
        {
          "output_type": "stream",
          "text": [
            "epoch * 20\n",
            "training loss: 0.0064, training acc 0.9302\n",
            "validation loss: 0.0065, validation acc0.9259\n",
            "EarlyStopping counter: 2 out of 3\n"
          ],
          "name": "stdout"
        },
        {
          "output_type": "stream",
          "text": [
            "100%|██████████| 157/157 [00:49<00:00,  3.14it/s]\n",
            "100%|██████████| 250/250 [00:50<00:00,  4.92it/s]"
          ],
          "name": "stderr"
        },
        {
          "output_type": "stream",
          "text": [
            "epoch * 21\n",
            "training loss: 0.0064, training acc 0.9302\n",
            "validation loss: 0.0070, validation acc0.9204\n",
            "EarlyStopping counter: 3 out of 3\n",
            "Early stopping\n"
          ],
          "name": "stdout"
        },
        {
          "output_type": "stream",
          "text": [
            "\n"
          ],
          "name": "stderr"
        }
      ]
    },
    {
      "cell_type": "code",
      "metadata": {
        "id": "8abJ6dvL7jR1",
        "colab_type": "code",
        "colab": {
          "base_uri": "https://localhost:8080/",
          "height": 282
        },
        "outputId": "502653f3-a173-404b-a245-3a225bfa3e6d"
      },
      "source": [
        "plt.plot(running_loss_history, label='training loss')\n",
        "plt.plot(val_running_loss_history, label='validation loss')\n",
        "plt.legend()"
      ],
      "execution_count": 21,
      "outputs": [
        {
          "output_type": "execute_result",
          "data": {
            "text/plain": [
              "<matplotlib.legend.Legend at 0x7f91625db0f0>"
            ]
          },
          "metadata": {
            "tags": []
          },
          "execution_count": 21
        },
        {
          "output_type": "display_data",
          "data": {
            "image/png": "[encoded data removed]",
            "text/plain": [
              "<Figure size 432x288 with 1 Axes>"
            ]
          },
          "metadata": {
            "tags": [],
            "needs_background": "light"
          }
        }
      ]
    },
    {
      "cell_type": "code",
      "metadata": {
        "id": "YwvRVyVE9i4l",
        "colab_type": "code",
        "colab": {
          "base_uri": "https://localhost:8080/",
          "height": 282
        },
        "outputId": "a8222e94-c0a1-4826-ff47-62673c6853db"
      },
      "source": [
        "plt.plot(running_corrects_history, label='training accuracy')\n",
        "plt.plot(val_running_corrects_history, label='validation accuracy')\n",
        "plt.legend()"
      ],
      "execution_count": 22,
      "outputs": [
        {
          "output_type": "execute_result",
          "data": {
            "text/plain": [
              "<matplotlib.legend.Legend at 0x7f9160399320>"
            ]
          },
          "metadata": {
            "tags": []
          },
          "execution_count": 22
        },
        {
          "output_type": "display_data",
          "data": {
            "image/png": "[encoded data removed]",
            "text/plain": [
              "<Figure size 432x288 with 1 Axes>"
            ]
          },
          "metadata": {
            "tags": [],
            "needs_background": "light"
          }
        }
      ]
    },
    {
      "cell_type": "code",
      "metadata": {
        "id": "x0CRA7o69n0Q",
        "colab_type": "code",
        "colab": {
          "base_uri": "https://localhost:8080/",
          "height": 665
        },
        "outputId": "fa139272-2860-4010-e6be-12ffafc66b2d"
      },
      "source": [
        "validation_confusion_matrix(model)"
      ],
      "execution_count": 23,
      "outputs": [
        {
          "output_type": "stream",
          "text": [
            "/usr/local/lib/python3.6/dist-packages/statsmodels/tools/_testing.py:19: FutureWarning: pandas.util.testing is deprecated. Use the functions in the public API at pandas.testing instead.\n",
            "  import pandas.util.testing as tm\n"
          ],
          "name": "stderr"
        },
        {
          "output_type": "display_data",
          "data": {
            "text/plain": [
              "<Figure size 432x288 with 0 Axes>"
            ]
          },
          "metadata": {
            "tags": []
          }
        },
        {
          "output_type": "display_data",
          "data": {
            "image/png": "[encoded data removed]",
            "text/plain": [
              "<Figure size 1080x720 with 2 Axes>"
            ]
          },
          "metadata": {
            "tags": []
          }
        }
      ]
    },
    {
      "cell_type": "code",
      "metadata": {
        "id": "rWcFalSw91X4",
        "colab_type": "code",
        "colab": {}
      },
      "source": [
        ""
      ],
      "execution_count": 0,
      "outputs": []
    }
  ]
}